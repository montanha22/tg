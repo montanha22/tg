{
 "cells": [
  {
   "cell_type": "code",
   "execution_count": null,
   "metadata": {},
   "outputs": [],
   "source": [
    "import pandas as pd\n",
    "import numpy as np"
   ]
  },
  {
   "cell_type": "code",
   "execution_count": null,
   "metadata": {},
   "outputs": [],
   "source": [
    "from tg.datasets import DatasetFactoryLookupCallback\n",
    "from tg.interactors import ModelInteractor\n",
    "from tg.splitters import AnchoredSplitter"
   ]
  },
  {
   "cell_type": "code",
   "execution_count": null,
   "metadata": {},
   "outputs": [],
   "source": [
    "dataset_name = 'AIR_PASSENGERS'\n",
    "\n",
    "data_factory = DatasetFactoryLookupCallback(dataset_name=dataset_name)\n",
    "\n",
    "# model_name = 'ARIMA_RNN'\n",
    "# params = {'epochs': 100, 'hidden_units': 15}\n",
    "\n",
    "model_name = 'SVR'\n",
    "params = {'C': 0.1, 'epsilon': 0.1, 'kernel': 'rbf'}\n",
    "\n",
    "# model_name = 'SARIMA_SVR'\n",
    "# params = {\n",
    "#     'm': data_factory.dataset.period,\n",
    "#     'C': 0.1,\n",
    "#     'epsilon': 0.1,\n",
    "#     'kernel': 'rbf'\n",
    "# }\n",
    "\n",
    "# model_name = 'SARIMA'\n",
    "# params = {}\n",
    "\n",
    "y, X = data_factory(model_name=model_name)"
   ]
  },
  {
   "cell_type": "code",
   "execution_count": null,
   "metadata": {},
   "outputs": [],
   "source": [
    "mi = ModelInteractor(model_name=model_name)\n",
    "mi.load(y=y,\n",
    "        X=X,\n",
    "        dataset_name=data_factory.dataset_name,\n",
    "        timesteps=data_factory.dataset.period,\n",
    "        train_size=data_factory.dataset.train_size)\n",
    "\n",
    "# trains, test = mi.split_trains_test(\n",
    "#     y=y,\n",
    "#     X=X,\n",
    "#     splitter_class=AnchoredSplitter,\n",
    "#     splitter_args={'min_train_points': data_factory.dataset.train_size})\n",
    "# preds = mi.fit_predict(trains=trains, test=test, parameters=params)\n",
    "# metrics = mi.evaluate(preds=preds, test=test)\n",
    "\n",
    "# best_params = mi.tune_hyperparameters(\n",
    "#     splitter_class=AnchoredSplitter,\n",
    "#     splitter_args={'min_train_points': data_factory.dataset.tuning_train_size},\n",
    "#     n_trials=2)\n",
    "\n",
    "mi.execute_mlflow(\n",
    "    splitter_class=AnchoredSplitter,\n",
    "    splitter_args={'min_train_points': data_factory.dataset.train_size},\n",
    "    parameters=params)\n"
   ]
  },
  {
   "cell_type": "code",
   "execution_count": null,
   "metadata": {},
   "outputs": [],
   "source": []
  }
 ],
 "metadata": {
  "kernelspec": {
   "display_name": "Python 3.9.12 64-bit ('3.9.12')",
   "language": "python",
   "name": "python3"
  },
  "language_info": {
   "codemirror_mode": {
    "name": "ipython",
    "version": 3
   },
   "file_extension": ".py",
   "mimetype": "text/x-python",
   "name": "python",
   "nbconvert_exporter": "python",
   "pygments_lexer": "ipython3",
   "version": "3.9.12"
  },
  "orig_nbformat": 4,
  "vscode": {
   "interpreter": {
    "hash": "df799a2a7b7efbb26e0d32ce1083bc8738f9f368b4708e77afccebbd088f12a4"
   }
  }
 },
 "nbformat": 4,
 "nbformat_minor": 2
}
