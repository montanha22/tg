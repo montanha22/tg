{
 "cells": [
  {
   "cell_type": "code",
   "execution_count": null,
   "metadata": {},
   "outputs": [],
   "source": [
    "import glob\n",
    "\n",
    "import matplotlib.pyplot as plt\n",
    "import mlflow\n",
    "import numpy as np\n",
    "import pandas as pd\n",
    "import seaborn as sns\n",
    "\n",
    "from tg import get_data_path, get_root_path\n",
    "from tg.datasets import DATASET_FACTORY_LOOKUP\n",
    "\n",
    "# color_palette = list(sns.color_palette(\"pastel\").as_hex())\n",
    "color_palette = list(sns.color_palette(\"husl\", 9).as_hex())\n",
    "\n",
    "pd.set_option('display.max_columns', None)\n",
    "pd.set_option('display.max_rows', None)"
   ]
  },
  {
   "cell_type": "code",
   "execution_count": null,
   "metadata": {},
   "outputs": [],
   "source": [
    "dict_dataset_names = {\n",
    "    \"AIR_PASSENGERS\": \"Passageiros aéreos\",\n",
    "    \"HOMICIDES\": 'Homicídios dolosos no RJ',\n",
    "    \"NOISY_SINE30\": \"Seno ruidoso\",\n",
    "    \"PERFECT_SINE30\": \"Seno perfeito\",\n",
    "    \"RANDOM_WALK\": \"Caminhada aleatória\"\n",
    "}\n",
    "\n",
    "dict_column_names = {\n",
    "    \"params.model_name\": \"Modelo\",\n",
    "    \"metrics.rmse\": \"RMSE\",\n",
    "    \"metrics.mae\": \"MAE\",\n",
    "    \"metrics.mape\": \"MAPE\",\n",
    "    \"metrics.smape\": \"sMAPE\",\n",
    "    \"params.dataset_name\": \"Conjunto de dados\"\n",
    "}\n"
   ]
  },
  {
   "cell_type": "code",
   "execution_count": null,
   "metadata": {},
   "outputs": [],
   "source": [
    "mlflow.set_tracking_uri(\"file:///{}\".format(get_root_path(\"mlruns\")))\n",
    "experiment = mlflow.get_experiment('0')"
   ]
  },
  {
   "cell_type": "code",
   "execution_count": null,
   "metadata": {},
   "outputs": [],
   "source": [
    "runs = mlflow.search_runs(experiment_ids=[experiment.experiment_id])\n",
    "runs['artifact_uri'] = runs['artifact_uri'].apply(lambda x: x.replace(\n",
    "    x.split('mlruns')[0], 'file///{}'.format(get_root_path(\"\"))).replace(\n",
    "        '\\\\', '/'))\n",
    "runs.head(3)"
   ]
  },
  {
   "cell_type": "code",
   "execution_count": null,
   "metadata": {},
   "outputs": [],
   "source": [
    "    # 'NAIVE': _get_default_input,\n",
    "    # 'ARIMA': _get_default_input,\n",
    "    # 'SARIMA': _get_default_input,\n",
    "    # 'RNN': _get_lagged_input,\n",
    "    # 'SVR': _get_lagged_input,\n",
    "    # 'ELM': _get_lagged_input,\n",
    "    # 'STL': _get_default_input,\n",
    "    # 'ES': _get_default_input,\n",
    "    # 'LSTM': _get_lagged_input,\n",
    "    # 'ARIMA_RNN': _get_default_input,\n",
    "    # 'SARIMA_SVR': _get_default_input,\n",
    "    # 'STL_ELM': _get_default_input,\n",
    "    # 'ES_LSTM': _get_default_input"
   ]
  },
  {
   "cell_type": "code",
   "execution_count": null,
   "metadata": {},
   "outputs": [],
   "source": [
    "metrics_table = runs[[\n",
    "    \"params.model_name\", \"metrics.rmse\", \"metrics.mape\", \"metrics.smape\",\n",
    "    \"metrics.mae\", \"params.dataset_name\"\n",
    "]].copy()\n",
    "\n",
    "metrics_table = metrics_table.rename(columns=dict_column_names)\n",
    "\n",
    "columns_order = [\"Modelo\", \"Conjunto de dados\", \"RMSE\", \"MAE\", \"MAPE\", \"sMAPE\"]\n",
    "\n",
    "metrics_table[\"Conjunto de dados\"] = metrics_table[\n",
    "    \"Conjunto de dados\"].replace(dict_dataset_names)\n",
    "\n",
    "metrics_table = metrics_table.sort_values([\"sMAPE\"]).drop_duplicates(\n",
    "    subset=[\"Conjunto de dados\", \"Modelo\"],\n",
    "    keep=\"first\").sort_values([\"Conjunto de dados\",\n",
    "                               \"sMAPE\"]).reset_index(drop=True)\n",
    "\n",
    "np.round(metrics_table, 4).head(3)"
   ]
  },
  {
   "cell_type": "code",
   "execution_count": null,
   "metadata": {},
   "outputs": [],
   "source": [
    "np.round(\n",
    "    metrics_table[metrics_table['Conjunto de dados'] ==\n",
    "                  dict_dataset_names['RANDOM_WALK']], 4)\n"
   ]
  },
  {
   "cell_type": "code",
   "execution_count": null,
   "metadata": {},
   "outputs": [],
   "source": [
    "# _metrics_table = metrics_table[columns_order].round(1).set_index(\n",
    "#     [\"Conjunto de dados\", \"Modelo\"])\n",
    "# latex_metrics_table = _metrics_table.to_latex()\n",
    "# print(latex_metrics_table)"
   ]
  },
  {
   "cell_type": "code",
   "execution_count": null,
   "metadata": {},
   "outputs": [],
   "source": [
    "preds = []\n",
    "for _, row in runs[[\n",
    "        \"params.model_name\", \"params.dataset_name\", \"artifact_uri\"\n",
    "]].iterrows():\n",
    "    model = row[\"params.model_name\"]\n",
    "    dataset = row[\"params.dataset_name\"]\n",
    "    artifact_uri = row[\"artifact_uri\"].split(\"///\")[-1]\n",
    "    glob_pattern = f\"{artifact_uri}/*.csv\"\n",
    "    path = glob.glob(glob_pattern)[0]\n",
    "    preds.append(pd.read_csv(path).iloc[:, 1].values)\n",
    "\n",
    "runs[\"Predições\"] = preds"
   ]
  },
  {
   "cell_type": "code",
   "execution_count": null,
   "metadata": {},
   "outputs": [],
   "source": [
    "preds_table = runs[[\n",
    "    \"params.model_name\", \"metrics.rmse\", \"metrics.mape\", \"metrics.smape\",\n",
    "    \"metrics.mae\", \"params.dataset_name\", \"Predições\"\n",
    "]].copy()\n",
    "\n",
    "preds_table = preds_table.rename(columns=dict_column_names)\n",
    "columns_order = [\n",
    "    \"Modelo\", \"Conjunto de dados\", \"RMSE\", \"MAE\", \"MAPE\", \"sMAPE\", \"Predições\"\n",
    "]\n",
    "\n",
    "preds_table[\"Conjunto de dados\"] = preds_table[\"Conjunto de dados\"].replace(\n",
    "    dict_dataset_names)\n",
    "\n",
    "preds_table = preds_table.sort_values([\"sMAPE\"]).drop_duplicates(\n",
    "    subset=[\"Conjunto de dados\", \"Modelo\"],\n",
    "    keep=\"first\").sort_values([\"Conjunto de dados\",\n",
    "                               \"sMAPE\"]).reset_index(drop=True)\n",
    "\n",
    "np.round(preds_table, 4)"
   ]
  },
  {
   "cell_type": "code",
   "execution_count": null,
   "metadata": {},
   "outputs": [],
   "source": [
    "dataset_name = \"RANDOM_WALK\"\n",
    "# dataset_name = \"HOMICIDES\"\n",
    "# dataset_name = \"NOISY_SINE30\"\n",
    "# dataset_name = \"PERFECT_SINE30\"\n",
    "# dataset_name = \"RANDOM_WALK\"\n",
    "series = DATASET_FACTORY_LOOKUP[dataset_name]()\n",
    "\n",
    "# model_names = [\"ARIMA_RNN\", \"ES\", \"RNN\", \"SARIMA\"]\n",
    "model_names = [\"ARIMA_RNN\", \"SARIMA_SVR\", \"STL_ELM\", \"SARIMA\"]\n",
    "# model_names = ['ARIMA', 'RNN', 'SVR', 'STL_ELM']\n",
    "# 'ELM', 'STL'"
   ]
  },
  {
   "cell_type": "code",
   "execution_count": null,
   "metadata": {},
   "outputs": [],
   "source": [
    "fig, axs = plt.subplots(4, 1, figsize=(10, 7))\n",
    "\n",
    "for i, model in enumerate(model_names):\n",
    "\n",
    "    aux_data = preds_table.loc[(preds_table['Modelo'] == model) &\n",
    "                               (preds_table['Conjunto de dados'] ==\n",
    "                                dict_dataset_names[dataset_name]), :]\n",
    "    aux_pred = aux_data['Predições'].values[0]\n",
    "    aux_model = ' + '.join(model.split('_')).upper()\n",
    "\n",
    "    axs[i].set_title(aux_model, fontsize=10)\n",
    "    axs[i].plot(range(len(series)), series, color='black', alpha=0.5)\n",
    "    axs[i].plot(range(len(series) - len(aux_pred), len(series)),\n",
    "                aux_pred,\n",
    "                color=color_palette[i],\n",
    "                label=\"RMSE: {:.2f}%\\nsMAPE: {:.1f}%\".format(\n",
    "                    aux_data['RMSE'].values[0], aux_data['sMAPE'].values[0]))\n",
    "\n",
    "for ax in axs:\n",
    "\n",
    "    for tick in ax.xaxis.get_major_ticks():\n",
    "        tick.tick1line.set_visible(False)\n",
    "        tick.tick2line.set_visible(False)\n",
    "\n",
    "    for tick in ax.yaxis.get_major_ticks():\n",
    "        tick.tick1line.set_visible(False)\n",
    "        tick.tick2line.set_visible(False)\n",
    "\n",
    "    ax.xaxis.set_ticklabels([])\n",
    "    ax.yaxis.set_ticklabels([])\n",
    "    ax.legend(fontsize=9, shadow=True, loc='upper left')\n",
    "    ax.grid(linewidth=0.15)\n",
    "\n",
    "fig.suptitle(\"Desempenho dos modelos híbridos - {}\".format(\n",
    "    dict_dataset_names[dataset_name]),\n",
    "             fontsize=15)\n",
    "plt.tight_layout()\n",
    "plt.savefig(get_root_path(\"reports/desempenho_hibridos_{}.png\".format(\n",
    "    dataset_name.lower())),\n",
    "            dpi=300)\n",
    "plt.show()"
   ]
  },
  {
   "cell_type": "code",
   "execution_count": null,
   "metadata": {},
   "outputs": [],
   "source": []
  }
 ],
 "metadata": {
  "kernelspec": {
   "display_name": "Python 3.9.13 64-bit",
   "language": "python",
   "name": "python3"
  },
  "language_info": {
   "codemirror_mode": {
    "name": "ipython",
    "version": 3
   },
   "file_extension": ".py",
   "mimetype": "text/x-python",
   "name": "python",
   "nbconvert_exporter": "python",
   "pygments_lexer": "ipython3",
   "version": "3.9.13"
  },
  "orig_nbformat": 4,
  "vscode": {
   "interpreter": {
    "hash": "3cc4cab7a7dac5d65e85e0eebf2661a2d2db91ed47d95bc0e6be69046fbc8142"
   }
  }
 },
 "nbformat": 4,
 "nbformat_minor": 2
}
