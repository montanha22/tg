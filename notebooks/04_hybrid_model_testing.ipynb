{
 "cells": [
  {
   "cell_type": "code",
   "execution_count": 1,
   "metadata": {},
   "outputs": [],
   "source": [
    "import pandas as pd\n",
    "import numpy as np"
   ]
  },
  {
   "cell_type": "code",
   "execution_count": 2,
   "metadata": {},
   "outputs": [],
   "source": [
    "from tg.interactors import ModelInteractor, DataInteractor\n",
    "from tg.splitters import AnchoredSplitter\n",
    "from tg.datasets import DatasetFactoryLookupCallback\n",
    "from tg.ts_models import ModelClassLookupCallback"
   ]
  },
  {
   "cell_type": "code",
   "execution_count": 3,
   "metadata": {},
   "outputs": [],
   "source": [
    "dataset_name = \"AIR_PASSENGERS\"\n",
    "\n",
    "first_model_name = \"ARIMA\"\n",
    "first_model_params = {}\n",
    "\n",
    "second_model_name = \"RNN\"\n",
    "second_model_params = {\"epochs\": 700, \"hidden_units\": 25}"
   ]
  },
  {
   "cell_type": "code",
   "execution_count": 4,
   "metadata": {},
   "outputs": [],
   "source": [
    "di = DataInteractor(dataset_name=dataset_name)\n",
    "y, X = di.get_data(model_name=first_model_name)"
   ]
  },
  {
   "cell_type": "code",
   "execution_count": 5,
   "metadata": {},
   "outputs": [],
   "source": [
    "ARIMA_class = ModelClassLookupCallback(\"ARIMA\")\n",
    "ARIMA = ARIMA_class()\n"
   ]
  },
  {
   "cell_type": "code",
   "execution_count": 33,
   "metadata": {},
   "outputs": [
    {
     "data": {
      "text/plain": [
       "127.85714285714286"
      ]
     },
     "execution_count": 33,
     "metadata": {},
     "output_type": "execute_result"
    }
   ],
   "source": [
    "ARIMA.fit(y=y[:7]).predict_one_ahead()"
   ]
  },
  {
   "cell_type": "code",
   "execution_count": 47,
   "metadata": {},
   "outputs": [],
   "source": [
    "from tg.splitters import AnchoredSplitter\n",
    "from tqdm import tqdm"
   ]
  },
  {
   "cell_type": "code",
   "execution_count": 51,
   "metadata": {},
   "outputs": [],
   "source": [
    "AS = AnchoredSplitter(min_train_points=3, ahead=1, step=1)\n",
    "slices = AS.split(y)\n",
    "train_indexes_list = [s[0] for s in slices]\n",
    "trains = [y[i] for i in train_indexes_list]"
   ]
  },
  {
   "cell_type": "code",
   "execution_count": 52,
   "metadata": {},
   "outputs": [
    {
     "name": "stderr",
     "output_type": "stream",
     "text": [
      "100%|██████████| 141/141 [02:29<00:00,  1.06s/it]\n"
     ]
    }
   ],
   "source": [
    "preds = []\n",
    "for train in tqdm(trains, position=0, leave=True):\n",
    "    preds.append(ARIMA.fit(y=train).predict_one_ahead())"
   ]
  },
  {
   "cell_type": "code",
   "execution_count": 59,
   "metadata": {},
   "outputs": [
    {
     "data": {
      "text/plain": [
       "<function tg.ts_models.ARIMAModel.suggest_params(trial: optuna.trial._trial.Trial) -> Dict[str, int]>"
      ]
     },
     "execution_count": 59,
     "metadata": {},
     "output_type": "execute_result"
    }
   ],
   "source": [
    "ARIMA.suggest_params"
   ]
  },
  {
   "cell_type": "code",
   "execution_count": null,
   "metadata": {},
   "outputs": [],
   "source": [
    "last_arima_errors = lagmat(arima_errors, self.arima_m, \"both\")\n",
    "        lagged_y = lagmat(y[1:], self.arima_m, \"both\")"
   ]
  },
  {
   "cell_type": "code",
   "execution_count": 26,
   "metadata": {},
   "outputs": [],
   "source": [
    "import pmdarima as pm\n",
    "\n",
    "sarima = pm.auto_arima(y, seasonal=False)\n",
    "\n",
    "arima_y_pred = sarima.predict_in_sample()"
   ]
  },
  {
   "cell_type": "code",
   "execution_count": 27,
   "metadata": {},
   "outputs": [
    {
     "data": {
      "text/plain": [
       "1949-01-01      0.000000\n",
       "1949-02-01    112.039908\n",
       "1949-03-01    119.858648\n",
       "1949-04-01    136.007005\n",
       "1949-05-01    124.632244\n",
       "                 ...    \n",
       "1960-08-01    611.964092\n",
       "1960-09-01    549.230156\n",
       "1960-10-01    451.474448\n",
       "1960-11-01    427.629284\n",
       "1960-12-01    393.635823\n",
       "Freq: MS, Name: predicted_mean, Length: 144, dtype: float64"
      ]
     },
     "execution_count": 27,
     "metadata": {},
     "output_type": "execute_result"
    }
   ],
   "source": [
    "arima_y_pred"
   ]
  },
  {
   "cell_type": "code",
   "execution_count": null,
   "metadata": {},
   "outputs": [],
   "source": []
  }
 ],
 "metadata": {
  "kernelspec": {
   "display_name": "Python 3.9.13 64-bit",
   "language": "python",
   "name": "python3"
  },
  "language_info": {
   "codemirror_mode": {
    "name": "ipython",
    "version": 3
   },
   "file_extension": ".py",
   "mimetype": "text/x-python",
   "name": "python",
   "nbconvert_exporter": "python",
   "pygments_lexer": "ipython3",
   "version": "3.9.13"
  },
  "orig_nbformat": 4,
  "vscode": {
   "interpreter": {
    "hash": "3cc4cab7a7dac5d65e85e0eebf2661a2d2db91ed47d95bc0e6be69046fbc8142"
   }
  }
 },
 "nbformat": 4,
 "nbformat_minor": 2
}
