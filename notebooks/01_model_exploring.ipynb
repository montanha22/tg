{
 "cells": [
  {
   "cell_type": "code",
   "execution_count": null,
   "metadata": {},
   "outputs": [],
   "source": [
    "import pandas as pd\n",
    "import numpy as np\n",
    "\n",
    "from tqdm import tqdm\n",
    "from functools import partial"
   ]
  },
  {
   "cell_type": "code",
   "execution_count": null,
   "metadata": {},
   "outputs": [],
   "source": [
    "from tg.interactors import ModelInteractor, DataInteractor\n",
    "from tg.splitters import AnchoredSplitter\n",
    "from tg.datasets import DatasetFactoryLookupCallback"
   ]
  },
  {
   "cell_type": "code",
   "execution_count": null,
   "metadata": {},
   "outputs": [],
   "source": [
    "DatasetFactoryLookupCallback('AIR_PASSENGERS')"
   ]
  },
  {
   "cell_type": "code",
   "execution_count": null,
   "metadata": {},
   "outputs": [],
   "source": [
    "dataset_name = \"AIR_PASSENGERS\"\n",
    "dataset_name = \"PERFECT_SINE30\"\n",
    "\n",
    "di = DataInteractor(dataset_name=dataset_name)\n",
    "\n",
    "# model_name = \"SARIMA\"\n",
    "# params = {\"m\": di.y.period}\n",
    "\n",
    "# model_name = \"NAIVE\"\n",
    "# params = {\"constant\": 0.0}\n",
    "\n",
    "# model_name = \"ARIMA\"\n",
    "# params = {}\n",
    "\n",
    "model_name = \"RNN\"\n",
    "params = {\"epochs\": 700, \"hidden_units\": 25}\n",
    "\n",
    "y, X = di.get_data(model_name=model_name)"
   ]
  },
  {
   "cell_type": "code",
   "execution_count": null,
   "metadata": {},
   "outputs": [],
   "source": [
    "mi = ModelInteractor(model_name=model_name)\n",
    "mi.load(dataset_name=dataset_name, y=y, X=X)\n",
    "# mi.execute_mlflow(parameters=params,\n",
    "#                   splitter_class=AnchoredSplitter,\n",
    "#                   splitter_args={'min_train_points': di.y.train_size})\n",
    "trains, test = mi.split_trains_test(\n",
    "    y=mi.y,\n",
    "    splitter_class=AnchoredSplitter,\n",
    "    splitter_args={'min_train_points': di.y.train_size},\n",
    "    X=mi.X)\n",
    "\n",
    "# preds = mi.fit_predict(trains=trains, test=test, parameters=params)\n",
    "# metrics = mi.evaluate(preds=preds, test=test)"
   ]
  },
  {
   "cell_type": "code",
   "execution_count": null,
   "metadata": {},
   "outputs": [],
   "source": [
    "y.period"
   ]
  },
  {
   "cell_type": "code",
   "execution_count": null,
   "metadata": {},
   "outputs": [],
   "source": [
    "# mi.tune_hyperparameters(\n",
    "#     splitter_class=AnchoredSplitter,\n",
    "#     splitter_args={'min_train_points': di.y.tuning_train_size},\n",
    "#     n_trials=5)\n"
   ]
  },
  {
   "cell_type": "code",
   "execution_count": null,
   "metadata": {},
   "outputs": [],
   "source": [
    "# import optuna\n",
    "# from tg import get_data_path, get_root_path\n",
    "\n",
    "# study = optuna.delete_study(\"AIR_PASSENGERS/ARIMA/v2\",\n",
    "#                             storage=\"sqlite:///{}\".format(\n",
    "#                                 get_root_path(\"optuna.db\")))\n"
   ]
  }
 ],
 "metadata": {
  "kernelspec": {
   "display_name": "Python 3.9.13 64-bit",
   "language": "python",
   "name": "python3"
  },
  "language_info": {
   "codemirror_mode": {
    "name": "ipython",
    "version": 3
   },
   "file_extension": ".py",
   "mimetype": "text/x-python",
   "name": "python",
   "nbconvert_exporter": "python",
   "pygments_lexer": "ipython3",
   "version": "3.9.13"
  },
  "orig_nbformat": 4,
  "vscode": {
   "interpreter": {
    "hash": "3cc4cab7a7dac5d65e85e0eebf2661a2d2db91ed47d95bc0e6be69046fbc8142"
   }
  }
 },
 "nbformat": 4,
 "nbformat_minor": 2
}
