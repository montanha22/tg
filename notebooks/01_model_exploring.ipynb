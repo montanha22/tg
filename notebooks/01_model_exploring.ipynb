{
 "cells": [
  {
   "cell_type": "code",
   "execution_count": 1,
   "metadata": {},
   "outputs": [],
   "source": [
    "import pandas as pd\n",
    "import numpy as np\n",
    "\n",
    "from tqdm import tqdm\n",
    "from functools import partial"
   ]
  },
  {
   "cell_type": "code",
   "execution_count": 2,
   "metadata": {},
   "outputs": [
    {
     "name": "stderr",
     "output_type": "stream",
     "text": [
      "2022-10-23 14:14:44.820543: I tensorflow/core/platform/cpu_feature_guard.cc:193] This TensorFlow binary is optimized with oneAPI Deep Neural Network Library (oneDNN) to use the following CPU instructions in performance-critical operations:  AVX2 FMA\n",
      "To enable them in other operations, rebuild TensorFlow with the appropriate compiler flags.\n"
     ]
    }
   ],
   "source": [
    "from tg.interactors import ModelInteractor, DataInteractor\n",
    "from tg.splitters import AnchoredSplitter\n",
    "from tg.datasets import DatasetFactoryLookupCallback"
   ]
  },
  {
   "cell_type": "code",
   "execution_count": 3,
   "metadata": {},
   "outputs": [],
   "source": [
    "dataset_name = \"AIR_PASSENGERS\"\n",
    "dataset_name = \"PERFECT_SINE30\"\n",
    "\n",
    "di = DataInteractor(dataset_name=dataset_name)\n",
    "\n",
    "# model_name = \"SARIMA\"\n",
    "# params = {\"m\": di.y.period}\n",
    "\n",
    "# model_name = \"NAIVE\"\n",
    "# params = {\"constant\": 0.0}\n",
    "\n",
    "# model_name = \"ARIMA\"\n",
    "# params = {}\n",
    "\n",
    "model_name = \"RNN\"\n",
    "params = {\"epochs\": 700, \"hidden_units\": 25}\n",
    "\n",
    "y, X = di.get_data(model_name=model_name)"
   ]
  },
  {
   "cell_type": "code",
   "execution_count": 4,
   "metadata": {},
   "outputs": [],
   "source": [
    "mi = ModelInteractor(model_name=model_name)\n",
    "mi.load(dataset_name=dataset_name, y=y, X=X)\n",
    "# mi.execute_mlflow(parameters=params,\n",
    "#                   splitter_class=AnchoredSplitter,\n",
    "#                   splitter_args={'min_train_points': di.y.train_size})\n",
    "trains, test = mi.split_trains_test(\n",
    "    y=mi.y,\n",
    "    splitter_class=AnchoredSplitter,\n",
    "    splitter_args={'min_train_points': di.y.train_size},\n",
    "    X=mi.X)\n",
    "\n",
    "# preds = mi.fit_predict(trains=trains, test=test, parameters=params)\n",
    "# metrics = mi.evaluate(preds=preds, test=test)"
   ]
  },
  {
   "cell_type": "code",
   "execution_count": 6,
   "metadata": {},
   "outputs": [],
   "source": [
    "# mi.tune_hyperparameters(\n",
    "#     splitter_class=AnchoredSplitter,\n",
    "#     splitter_args={'min_train_points': di.y.tuning_train_size},\n",
    "#     n_trials=5)\n"
   ]
  },
  {
   "cell_type": "code",
   "execution_count": 7,
   "metadata": {},
   "outputs": [],
   "source": [
    "# import optuna\n",
    "# from tg import get_data_path, get_root_path\n",
    "\n",
    "# study = optuna.delete_study(\"AIR_PASSENGERS/ARIMA/v2\",\n",
    "#                             storage=\"sqlite:///{}\".format(\n",
    "#                                 get_root_path(\"optuna.db\")))\n"
   ]
  }
 ],
 "metadata": {
  "kernelspec": {
   "display_name": "Python 3.9.12 64-bit ('3.9.12')",
   "language": "python",
   "name": "python3"
  },
  "language_info": {
   "codemirror_mode": {
    "name": "ipython",
    "version": 3
   },
   "file_extension": ".py",
   "mimetype": "text/x-python",
   "name": "python",
   "nbconvert_exporter": "python",
   "pygments_lexer": "ipython3",
   "version": "3.9.12"
  },
  "orig_nbformat": 4,
  "vscode": {
   "interpreter": {
    "hash": "df799a2a7b7efbb26e0d32ce1083bc8738f9f368b4708e77afccebbd088f12a4"
   }
  }
 },
 "nbformat": 4,
 "nbformat_minor": 2
}
