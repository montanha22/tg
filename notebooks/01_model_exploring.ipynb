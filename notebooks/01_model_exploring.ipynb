{
 "cells": [
  {
   "cell_type": "code",
   "execution_count": 1,
   "metadata": {},
   "outputs": [],
   "source": [
    "import pandas as pd\n",
    "import numpy as np"
   ]
  },
  {
   "cell_type": "code",
   "execution_count": 2,
   "metadata": {},
   "outputs": [],
   "source": [
    "from tg.interactors import ModelInteractor, DataInteractor\n",
    "from tg.splitters import AnchoredSplitter\n",
    "from tg.datasets import DatasetFactoryLookupCallback"
   ]
  },
  {
   "cell_type": "code",
   "execution_count": 3,
   "metadata": {},
   "outputs": [],
   "source": [
    "dataset_name = \"AIR_PASSENGERS\"\n",
    "\n",
    "# model_name = \"SARIMA\"\n",
    "# params = {\"m\": 12}\n",
    "\n",
    "model_name = \"NAIVE\"\n",
    "params = {\"constant\": 0.0}\n",
    "\n",
    "model_name = \"ARIMA\"\n",
    "params = {}\n",
    "\n",
    "model_name = \"RNN\"\n",
    "params = {\"epochs\": 700, \"hidden_units\": 25}"
   ]
  },
  {
   "cell_type": "code",
   "execution_count": 4,
   "metadata": {},
   "outputs": [],
   "source": [
    "di = DataInteractor(dataset_name=dataset_name)\n",
    "y, X = di.get_data(model_name=model_name)"
   ]
  },
  {
   "cell_type": "code",
   "execution_count": null,
   "metadata": {},
   "outputs": [],
   "source": [
    "mi = ModelInteractor(model_name=model_name)\n",
    "mi.load(dataset_name=dataset_name, y=y, X=X)\n",
    "# mi.execute_mlflow(parameters=params,\n",
    "#                   splitter_class=AnchoredSplitter,\n",
    "#                   splitter_args={'min_train_points': di.y.train_size})\n",
    "trains, test = mi.split_trains_test(\n",
    "    y=mi.y,\n",
    "    splitter_class=AnchoredSplitter,\n",
    "    splitter_args={'min_train_points': di.y.train_size},\n",
    "    X=mi.X)\n",
    "\n",
    "preds = mi.fit_predict(trains=trains, test=test, parameters=params)\n",
    "metrics = mi.evaluate(preds=preds, test=test)"
   ]
  },
  {
   "cell_type": "code",
   "execution_count": null,
   "metadata": {},
   "outputs": [],
   "source": [
    "# mi.tune_hyperparameters(\n",
    "#     splitter_class=AnchoredSplitter,\n",
    "#     splitter_args={'min_train_points': di.y.tuning_train_size},\n",
    "#     n_trials=5)\n"
   ]
  },
  {
   "cell_type": "code",
   "execution_count": 1,
   "metadata": {},
   "outputs": [],
   "source": [
    "import optuna\n",
    "from tg import get_data_path, get_root_path\n",
    "\n",
    "study = optuna.delete_study(\"AIR_PASSENGERS/ARIMA/v2\",\n",
    "                            storage=\"sqlite:///{}\".format(\n",
    "                                get_root_path(\"optuna.db\")))\n"
   ]
  },
  {
   "cell_type": "code",
   "execution_count": 5,
   "metadata": {},
   "outputs": [],
   "source": [
    "from tg.ts_models import ModelClassLookupCallback"
   ]
  },
  {
   "cell_type": "code",
   "execution_count": 9,
   "metadata": {},
   "outputs": [],
   "source": [
    "ARIMA_class = ModelClassLookupCallback(\"ARIMA\")\n",
    "ARIMA = ARIMA_class()\n"
   ]
  },
  {
   "cell_type": "code",
   "execution_count": 7,
   "metadata": {},
   "outputs": [],
   "source": [
    "ARIMA."
   ]
  },
  {
   "cell_type": "code",
   "execution_count": 10,
   "metadata": {},
   "outputs": [],
   "source": [
    "ARIMA.fit(y=y)"
   ]
  },
  {
   "cell_type": "code",
   "execution_count": 4,
   "metadata": {},
   "outputs": [
    {
     "data": {
      "text/plain": [
       "110"
      ]
     },
     "execution_count": 4,
     "metadata": {},
     "output_type": "execute_result"
    }
   ],
   "source": [
    "from tg.datasets import DatasetFactoryLookupCallback\n",
    "\n",
    "DatasetFactoryLookupCallback(\"AIR_PASSENGERS\")().train_size"
   ]
  },
  {
   "cell_type": "code",
   "execution_count": 12,
   "metadata": {},
   "outputs": [
    {
     "data": {
      "text/plain": [
       "Month\n",
       "1950-01-01    115\n",
       "1950-02-01    126\n",
       "1950-03-01    141\n",
       "1950-04-01    135\n",
       "1950-05-01    125\n",
       "             ... \n",
       "1960-08-01    606\n",
       "1960-09-01    508\n",
       "1960-10-01    461\n",
       "1960-11-01    390\n",
       "1960-12-01    432\n",
       "Name: Passengers, Length: 132, dtype: int64"
      ]
     },
     "execution_count": 12,
     "metadata": {},
     "output_type": "execute_result"
    }
   ],
   "source": [
    "y"
   ]
  },
  {
   "cell_type": "code",
   "execution_count": null,
   "metadata": {},
   "outputs": [],
   "source": []
  }
 ],
 "metadata": {
  "kernelspec": {
   "display_name": "Python 3.9.13 64-bit",
   "language": "python",
   "name": "python3"
  },
  "language_info": {
   "codemirror_mode": {
    "name": "ipython",
    "version": 3
   },
   "file_extension": ".py",
   "mimetype": "text/x-python",
   "name": "python",
   "nbconvert_exporter": "python",
   "pygments_lexer": "ipython3",
   "version": "3.9.13"
  },
  "orig_nbformat": 4,
  "vscode": {
   "interpreter": {
    "hash": "3cc4cab7a7dac5d65e85e0eebf2661a2d2db91ed47d95bc0e6be69046fbc8142"
   }
  }
 },
 "nbformat": 4,
 "nbformat_minor": 2
}
