{
 "cells": [
  {
   "cell_type": "code",
   "execution_count": 1,
   "metadata": {},
   "outputs": [],
   "source": [
    "import pandas as pd\n",
    "import numpy as np"
   ]
  },
  {
   "cell_type": "code",
   "execution_count": 2,
   "metadata": {},
   "outputs": [
    {
     "name": "stderr",
     "output_type": "stream",
     "text": [
      "2022-10-18 16:08:00.263866: I tensorflow/core/platform/cpu_feature_guard.cc:193] This TensorFlow binary is optimized with oneAPI Deep Neural Network Library (oneDNN) to use the following CPU instructions in performance-critical operations:  AVX2 FMA\n",
      "To enable them in other operations, rebuild TensorFlow with the appropriate compiler flags.\n"
     ]
    }
   ],
   "source": [
    "from tg.interactors import ModelInteractor\n",
    "from tg.splitters import AnchoredSplitter"
   ]
  },
  {
   "cell_type": "code",
   "execution_count": 3,
   "metadata": {},
   "outputs": [],
   "source": [
    "dataset_name = \"AIR_PASSENGERS\"\n",
    "\n",
    "# model_name = \"SARIMA\"\n",
    "# params = {\"m\": 12}\n",
    "\n",
    "model_name = \"NAIVE\"\n",
    "params = {\"constant\": 0.0}"
   ]
  },
  {
   "cell_type": "code",
   "execution_count": 4,
   "metadata": {},
   "outputs": [
    {
     "name": "stderr",
     "output_type": "stream",
     "text": [
      "100%|██████████| 34/34 [00:00<00:00, 12125.36it/s]"
     ]
    },
    {
     "name": "stdout",
     "output_type": "stream",
     "text": [
      "{'constant': 0.0} 318.0\n",
      "{'constant': 0.0} 362.0\n",
      "{'constant': 0.0} 348.0\n",
      "{'constant': 0.0} 363.0\n",
      "{'constant': 0.0} 435.0\n",
      "{'constant': 0.0} 491.0\n",
      "{'constant': 0.0} 505.0\n",
      "{'constant': 0.0} 404.0\n",
      "{'constant': 0.0} 359.0\n",
      "{'constant': 0.0} 310.0\n",
      "{'constant': 0.0} 337.0\n",
      "{'constant': 0.0} 360.0\n",
      "{'constant': 0.0} 342.0\n",
      "{'constant': 0.0} 406.0\n",
      "{'constant': 0.0} 396.0\n",
      "{'constant': 0.0} 420.0\n",
      "{'constant': 0.0} 472.0\n",
      "{'constant': 0.0} 548.0\n",
      "{'constant': 0.0} 559.0\n",
      "{'constant': 0.0} 463.0\n",
      "{'constant': 0.0} 407.0\n",
      "{'constant': 0.0} 362.0\n",
      "{'constant': 0.0} 405.0\n",
      "{'constant': 0.0} 417.0\n",
      "{'constant': 0.0} 391.0\n",
      "{'constant': 0.0} 419.0\n",
      "{'constant': 0.0} 461.0\n",
      "{'constant': 0.0} 472.0\n",
      "{'constant': 0.0} 535.0\n",
      "{'constant': 0.0} 622.0\n",
      "{'constant': 0.0} 606.0\n",
      "{'constant': 0.0} 508.0\n",
      "{'constant': 0.0} 461.0\n",
      "{'constant': 0.0} 390.0\n"
     ]
    },
    {
     "name": "stderr",
     "output_type": "stream",
     "text": [
      "\n"
     ]
    },
    {
     "data": {
      "text/plain": [
       "{'rmse': 51.61566109804499,\n",
       " 'smape': 5.057929725683542,\n",
       " 'mape': 10.17384335225903,\n",
       " 'mae': 44.05882352941177}"
      ]
     },
     "execution_count": 4,
     "metadata": {},
     "output_type": "execute_result"
    }
   ],
   "source": [
    "mi = ModelInteractor(model_name=model_name)\n",
    "\n",
    "mi.load_time_series(dataset_name=dataset_name)\n",
    "mi.split_trains_test(splitter=AnchoredSplitter,\n",
    "                     splitter_args={'min_train_points': mi.dataset.train_size})\n",
    "mi.fit_predict(parameters=params)\n",
    "mi.evaluate()\n",
    "mi.metrics"
   ]
  },
  {
   "cell_type": "code",
   "execution_count": null,
   "metadata": {},
   "outputs": [],
   "source": []
  },
  {
   "cell_type": "code",
   "execution_count": 5,
   "metadata": {},
   "outputs": [
    {
     "ename": "DuplicatedStudyError",
     "evalue": "Another study with name 'AIR_PASSENGERS/NAIVE/v2' already exists. Please specify a different name, or reuse the existing one by setting `load_if_exists` (for Python API) or `--skip-if-exists` flag (for CLI).",
     "output_type": "error",
     "traceback": [
      "\u001b[0;31m---------------------------------------------------------------------------\u001b[0m",
      "\u001b[0;31mIntegrityError\u001b[0m                            Traceback (most recent call last)",
      "File \u001b[0;32m~/.pyenv/versions/3.9.12/lib/python3.9/site-packages/sqlalchemy/engine/base.py:1900\u001b[0m, in \u001b[0;36mConnection._execute_context\u001b[0;34m(self, dialect, constructor, statement, parameters, execution_options, *args, **kw)\u001b[0m\n\u001b[1;32m   1899\u001b[0m     \u001b[39mif\u001b[39;00m \u001b[39mnot\u001b[39;00m evt_handled:\n\u001b[0;32m-> 1900\u001b[0m         \u001b[39mself\u001b[39;49m\u001b[39m.\u001b[39;49mdialect\u001b[39m.\u001b[39;49mdo_execute(\n\u001b[1;32m   1901\u001b[0m             cursor, statement, parameters, context\n\u001b[1;32m   1902\u001b[0m         )\n\u001b[1;32m   1904\u001b[0m \u001b[39mif\u001b[39;00m \u001b[39mself\u001b[39m\u001b[39m.\u001b[39m_has_events \u001b[39mor\u001b[39;00m \u001b[39mself\u001b[39m\u001b[39m.\u001b[39mengine\u001b[39m.\u001b[39m_has_events:\n",
      "File \u001b[0;32m~/.pyenv/versions/3.9.12/lib/python3.9/site-packages/sqlalchemy/engine/default.py:736\u001b[0m, in \u001b[0;36mDefaultDialect.do_execute\u001b[0;34m(self, cursor, statement, parameters, context)\u001b[0m\n\u001b[1;32m    735\u001b[0m \u001b[39mdef\u001b[39;00m \u001b[39mdo_execute\u001b[39m(\u001b[39mself\u001b[39m, cursor, statement, parameters, context\u001b[39m=\u001b[39m\u001b[39mNone\u001b[39;00m):\n\u001b[0;32m--> 736\u001b[0m     cursor\u001b[39m.\u001b[39;49mexecute(statement, parameters)\n",
      "\u001b[0;31mIntegrityError\u001b[0m: UNIQUE constraint failed: studies.study_name",
      "\nThe above exception was the direct cause of the following exception:\n",
      "\u001b[0;31mIntegrityError\u001b[0m                            Traceback (most recent call last)",
      "File \u001b[0;32m~/.pyenv/versions/3.9.12/lib/python3.9/site-packages/optuna/storages/_rdb/storage.py:225\u001b[0m, in \u001b[0;36mRDBStorage.create_new_study\u001b[0;34m(self, study_name)\u001b[0m\n\u001b[1;32m    224\u001b[0m         study \u001b[39m=\u001b[39m models\u001b[39m.\u001b[39mStudyModel(study_name\u001b[39m=\u001b[39mstudy_name, directions\u001b[39m=\u001b[39m[direction])\n\u001b[0;32m--> 225\u001b[0m         session\u001b[39m.\u001b[39madd(study)\n\u001b[1;32m    226\u001b[0m \u001b[39mexcept\u001b[39;00m IntegrityError:\n",
      "File \u001b[0;32m~/.pyenv/versions/3.9.12/lib/python3.9/contextlib.py:126\u001b[0m, in \u001b[0;36m_GeneratorContextManager.__exit__\u001b[0;34m(self, typ, value, traceback)\u001b[0m\n\u001b[1;32m    125\u001b[0m \u001b[39mtry\u001b[39;00m:\n\u001b[0;32m--> 126\u001b[0m     \u001b[39mnext\u001b[39;49m(\u001b[39mself\u001b[39;49m\u001b[39m.\u001b[39;49mgen)\n\u001b[1;32m    127\u001b[0m \u001b[39mexcept\u001b[39;00m \u001b[39mStopIteration\u001b[39;00m:\n",
      "File \u001b[0;32m~/.pyenv/versions/3.9.12/lib/python3.9/site-packages/optuna/storages/_rdb/storage.py:54\u001b[0m, in \u001b[0;36m_create_scoped_session\u001b[0;34m(scoped_session, ignore_integrity_error)\u001b[0m\n\u001b[1;32m     53\u001b[0m     \u001b[39myield\u001b[39;00m session\n\u001b[0;32m---> 54\u001b[0m     session\u001b[39m.\u001b[39;49mcommit()\n\u001b[1;32m     55\u001b[0m \u001b[39mexcept\u001b[39;00m IntegrityError \u001b[39mas\u001b[39;00m e:\n",
      "File \u001b[0;32m~/.pyenv/versions/3.9.12/lib/python3.9/site-packages/sqlalchemy/orm/session.py:1451\u001b[0m, in \u001b[0;36mSession.commit\u001b[0;34m(self)\u001b[0m\n\u001b[1;32m   1449\u001b[0m         \u001b[39mraise\u001b[39;00m sa_exc\u001b[39m.\u001b[39mInvalidRequestError(\u001b[39m\"\u001b[39m\u001b[39mNo transaction is begun.\u001b[39m\u001b[39m\"\u001b[39m)\n\u001b[0;32m-> 1451\u001b[0m \u001b[39mself\u001b[39;49m\u001b[39m.\u001b[39;49m_transaction\u001b[39m.\u001b[39;49mcommit(_to_root\u001b[39m=\u001b[39;49m\u001b[39mself\u001b[39;49m\u001b[39m.\u001b[39;49mfuture)\n",
      "File \u001b[0;32m~/.pyenv/versions/3.9.12/lib/python3.9/site-packages/sqlalchemy/orm/session.py:829\u001b[0m, in \u001b[0;36mSessionTransaction.commit\u001b[0;34m(self, _to_root)\u001b[0m\n\u001b[1;32m    828\u001b[0m \u001b[39mif\u001b[39;00m \u001b[39mself\u001b[39m\u001b[39m.\u001b[39m_state \u001b[39mis\u001b[39;00m \u001b[39mnot\u001b[39;00m PREPARED:\n\u001b[0;32m--> 829\u001b[0m     \u001b[39mself\u001b[39;49m\u001b[39m.\u001b[39;49m_prepare_impl()\n\u001b[1;32m    831\u001b[0m \u001b[39mif\u001b[39;00m \u001b[39mself\u001b[39m\u001b[39m.\u001b[39m_parent \u001b[39mis\u001b[39;00m \u001b[39mNone\u001b[39;00m \u001b[39mor\u001b[39;00m \u001b[39mself\u001b[39m\u001b[39m.\u001b[39mnested:\n",
      "File \u001b[0;32m~/.pyenv/versions/3.9.12/lib/python3.9/site-packages/sqlalchemy/orm/session.py:808\u001b[0m, in \u001b[0;36mSessionTransaction._prepare_impl\u001b[0;34m(self)\u001b[0m\n\u001b[1;32m    807\u001b[0m         \u001b[39mbreak\u001b[39;00m\n\u001b[0;32m--> 808\u001b[0m     \u001b[39mself\u001b[39;49m\u001b[39m.\u001b[39;49msession\u001b[39m.\u001b[39;49mflush()\n\u001b[1;32m    809\u001b[0m \u001b[39melse\u001b[39;00m:\n",
      "File \u001b[0;32m~/.pyenv/versions/3.9.12/lib/python3.9/site-packages/sqlalchemy/orm/session.py:3429\u001b[0m, in \u001b[0;36mSession.flush\u001b[0;34m(self, objects)\u001b[0m\n\u001b[1;32m   3428\u001b[0m     \u001b[39mself\u001b[39m\u001b[39m.\u001b[39m_flushing \u001b[39m=\u001b[39m \u001b[39mTrue\u001b[39;00m\n\u001b[0;32m-> 3429\u001b[0m     \u001b[39mself\u001b[39;49m\u001b[39m.\u001b[39;49m_flush(objects)\n\u001b[1;32m   3430\u001b[0m \u001b[39mfinally\u001b[39;00m:\n",
      "File \u001b[0;32m~/.pyenv/versions/3.9.12/lib/python3.9/site-packages/sqlalchemy/orm/session.py:3569\u001b[0m, in \u001b[0;36mSession._flush\u001b[0;34m(self, objects)\u001b[0m\n\u001b[1;32m   3568\u001b[0m \u001b[39mwith\u001b[39;00m util\u001b[39m.\u001b[39msafe_reraise():\n\u001b[0;32m-> 3569\u001b[0m     transaction\u001b[39m.\u001b[39mrollback(_capture_exception\u001b[39m=\u001b[39m\u001b[39mTrue\u001b[39;00m)\n",
      "File \u001b[0;32m~/.pyenv/versions/3.9.12/lib/python3.9/site-packages/sqlalchemy/util/langhelpers.py:70\u001b[0m, in \u001b[0;36msafe_reraise.__exit__\u001b[0;34m(self, type_, value, traceback)\u001b[0m\n\u001b[1;32m     69\u001b[0m     \u001b[39mif\u001b[39;00m \u001b[39mnot\u001b[39;00m \u001b[39mself\u001b[39m\u001b[39m.\u001b[39mwarn_only:\n\u001b[0;32m---> 70\u001b[0m         compat\u001b[39m.\u001b[39;49mraise_(\n\u001b[1;32m     71\u001b[0m             exc_value,\n\u001b[1;32m     72\u001b[0m             with_traceback\u001b[39m=\u001b[39;49mexc_tb,\n\u001b[1;32m     73\u001b[0m         )\n\u001b[1;32m     74\u001b[0m \u001b[39melse\u001b[39;00m:\n",
      "File \u001b[0;32m~/.pyenv/versions/3.9.12/lib/python3.9/site-packages/sqlalchemy/util/compat.py:208\u001b[0m, in \u001b[0;36mraise_\u001b[0;34m(***failed resolving arguments***)\u001b[0m\n\u001b[1;32m    207\u001b[0m \u001b[39mtry\u001b[39;00m:\n\u001b[0;32m--> 208\u001b[0m     \u001b[39mraise\u001b[39;00m exception\n\u001b[1;32m    209\u001b[0m \u001b[39mfinally\u001b[39;00m:\n\u001b[1;32m    210\u001b[0m     \u001b[39m# credit to\u001b[39;00m\n\u001b[1;32m    211\u001b[0m     \u001b[39m# https://cosmicpercolator.com/2016/01/13/exception-leaks-in-python-2-and-3/\u001b[39;00m\n\u001b[1;32m    212\u001b[0m     \u001b[39m# as the __traceback__ object creates a cycle\u001b[39;00m\n",
      "File \u001b[0;32m~/.pyenv/versions/3.9.12/lib/python3.9/site-packages/sqlalchemy/orm/session.py:3529\u001b[0m, in \u001b[0;36mSession._flush\u001b[0;34m(self, objects)\u001b[0m\n\u001b[1;32m   3528\u001b[0m \u001b[39mtry\u001b[39;00m:\n\u001b[0;32m-> 3529\u001b[0m     flush_context\u001b[39m.\u001b[39;49mexecute()\n\u001b[1;32m   3530\u001b[0m \u001b[39mfinally\u001b[39;00m:\n",
      "File \u001b[0;32m~/.pyenv/versions/3.9.12/lib/python3.9/site-packages/sqlalchemy/orm/unitofwork.py:456\u001b[0m, in \u001b[0;36mUOWTransaction.execute\u001b[0;34m(self)\u001b[0m\n\u001b[1;32m    455\u001b[0m \u001b[39mfor\u001b[39;00m rec \u001b[39min\u001b[39;00m topological\u001b[39m.\u001b[39msort(\u001b[39mself\u001b[39m\u001b[39m.\u001b[39mdependencies, postsort_actions):\n\u001b[0;32m--> 456\u001b[0m     rec\u001b[39m.\u001b[39;49mexecute(\u001b[39mself\u001b[39;49m)\n",
      "File \u001b[0;32m~/.pyenv/versions/3.9.12/lib/python3.9/site-packages/sqlalchemy/orm/unitofwork.py:630\u001b[0m, in \u001b[0;36mSaveUpdateAll.execute\u001b[0;34m(self, uow)\u001b[0m\n\u001b[1;32m    628\u001b[0m \u001b[39m@util\u001b[39m\u001b[39m.\u001b[39mpreload_module(\u001b[39m\"\u001b[39m\u001b[39msqlalchemy.orm.persistence\u001b[39m\u001b[39m\"\u001b[39m)\n\u001b[1;32m    629\u001b[0m \u001b[39mdef\u001b[39;00m \u001b[39mexecute\u001b[39m(\u001b[39mself\u001b[39m, uow):\n\u001b[0;32m--> 630\u001b[0m     util\u001b[39m.\u001b[39;49mpreloaded\u001b[39m.\u001b[39;49morm_persistence\u001b[39m.\u001b[39;49msave_obj(\n\u001b[1;32m    631\u001b[0m         \u001b[39mself\u001b[39;49m\u001b[39m.\u001b[39;49mmapper,\n\u001b[1;32m    632\u001b[0m         uow\u001b[39m.\u001b[39;49mstates_for_mapper_hierarchy(\u001b[39mself\u001b[39;49m\u001b[39m.\u001b[39;49mmapper, \u001b[39mFalse\u001b[39;49;00m, \u001b[39mFalse\u001b[39;49;00m),\n\u001b[1;32m    633\u001b[0m         uow,\n\u001b[1;32m    634\u001b[0m     )\n",
      "File \u001b[0;32m~/.pyenv/versions/3.9.12/lib/python3.9/site-packages/sqlalchemy/orm/persistence.py:245\u001b[0m, in \u001b[0;36msave_obj\u001b[0;34m(base_mapper, states, uowtransaction, single)\u001b[0m\n\u001b[1;32m    237\u001b[0m     _emit_update_statements(\n\u001b[1;32m    238\u001b[0m         base_mapper,\n\u001b[1;32m    239\u001b[0m         uowtransaction,\n\u001b[0;32m   (...)\u001b[0m\n\u001b[1;32m    242\u001b[0m         update,\n\u001b[1;32m    243\u001b[0m     )\n\u001b[0;32m--> 245\u001b[0m     _emit_insert_statements(\n\u001b[1;32m    246\u001b[0m         base_mapper,\n\u001b[1;32m    247\u001b[0m         uowtransaction,\n\u001b[1;32m    248\u001b[0m         mapper,\n\u001b[1;32m    249\u001b[0m         table,\n\u001b[1;32m    250\u001b[0m         insert,\n\u001b[1;32m    251\u001b[0m     )\n\u001b[1;32m    253\u001b[0m _finalize_insert_update_commands(\n\u001b[1;32m    254\u001b[0m     base_mapper,\n\u001b[1;32m    255\u001b[0m     uowtransaction,\n\u001b[0;32m   (...)\u001b[0m\n\u001b[1;32m    271\u001b[0m     ),\n\u001b[1;32m    272\u001b[0m )\n",
      "File \u001b[0;32m~/.pyenv/versions/3.9.12/lib/python3.9/site-packages/sqlalchemy/orm/persistence.py:1238\u001b[0m, in \u001b[0;36m_emit_insert_statements\u001b[0;34m(base_mapper, uowtransaction, mapper, table, insert, bookkeeping)\u001b[0m\n\u001b[1;32m   1237\u001b[0m \u001b[39melse\u001b[39;00m:\n\u001b[0;32m-> 1238\u001b[0m     result \u001b[39m=\u001b[39m connection\u001b[39m.\u001b[39;49m_execute_20(\n\u001b[1;32m   1239\u001b[0m         statement,\n\u001b[1;32m   1240\u001b[0m         params,\n\u001b[1;32m   1241\u001b[0m         execution_options\u001b[39m=\u001b[39;49mexecution_options,\n\u001b[1;32m   1242\u001b[0m     )\n\u001b[1;32m   1244\u001b[0m primary_key \u001b[39m=\u001b[39m result\u001b[39m.\u001b[39minserted_primary_key\n",
      "File \u001b[0;32m~/.pyenv/versions/3.9.12/lib/python3.9/site-packages/sqlalchemy/engine/base.py:1705\u001b[0m, in \u001b[0;36mConnection._execute_20\u001b[0;34m(self, statement, parameters, execution_options)\u001b[0m\n\u001b[1;32m   1704\u001b[0m \u001b[39melse\u001b[39;00m:\n\u001b[0;32m-> 1705\u001b[0m     \u001b[39mreturn\u001b[39;00m meth(\u001b[39mself\u001b[39;49m, args_10style, kwargs_10style, execution_options)\n",
      "File \u001b[0;32m~/.pyenv/versions/3.9.12/lib/python3.9/site-packages/sqlalchemy/sql/elements.py:333\u001b[0m, in \u001b[0;36mClauseElement._execute_on_connection\u001b[0;34m(self, connection, multiparams, params, execution_options, _force)\u001b[0m\n\u001b[1;32m    332\u001b[0m \u001b[39mif\u001b[39;00m _force \u001b[39mor\u001b[39;00m \u001b[39mself\u001b[39m\u001b[39m.\u001b[39msupports_execution:\n\u001b[0;32m--> 333\u001b[0m     \u001b[39mreturn\u001b[39;00m connection\u001b[39m.\u001b[39;49m_execute_clauseelement(\n\u001b[1;32m    334\u001b[0m         \u001b[39mself\u001b[39;49m, multiparams, params, execution_options\n\u001b[1;32m    335\u001b[0m     )\n\u001b[1;32m    336\u001b[0m \u001b[39melse\u001b[39;00m:\n",
      "File \u001b[0;32m~/.pyenv/versions/3.9.12/lib/python3.9/site-packages/sqlalchemy/engine/base.py:1572\u001b[0m, in \u001b[0;36mConnection._execute_clauseelement\u001b[0;34m(self, elem, multiparams, params, execution_options)\u001b[0m\n\u001b[1;32m   1564\u001b[0m compiled_sql, extracted_params, cache_hit \u001b[39m=\u001b[39m elem\u001b[39m.\u001b[39m_compile_w_cache(\n\u001b[1;32m   1565\u001b[0m     dialect\u001b[39m=\u001b[39mdialect,\n\u001b[1;32m   1566\u001b[0m     compiled_cache\u001b[39m=\u001b[39mcompiled_cache,\n\u001b[0;32m   (...)\u001b[0m\n\u001b[1;32m   1570\u001b[0m     linting\u001b[39m=\u001b[39m\u001b[39mself\u001b[39m\u001b[39m.\u001b[39mdialect\u001b[39m.\u001b[39mcompiler_linting \u001b[39m|\u001b[39m compiler\u001b[39m.\u001b[39mWARN_LINTING,\n\u001b[1;32m   1571\u001b[0m )\n\u001b[0;32m-> 1572\u001b[0m ret \u001b[39m=\u001b[39m \u001b[39mself\u001b[39;49m\u001b[39m.\u001b[39;49m_execute_context(\n\u001b[1;32m   1573\u001b[0m     dialect,\n\u001b[1;32m   1574\u001b[0m     dialect\u001b[39m.\u001b[39;49mexecution_ctx_cls\u001b[39m.\u001b[39;49m_init_compiled,\n\u001b[1;32m   1575\u001b[0m     compiled_sql,\n\u001b[1;32m   1576\u001b[0m     distilled_params,\n\u001b[1;32m   1577\u001b[0m     execution_options,\n\u001b[1;32m   1578\u001b[0m     compiled_sql,\n\u001b[1;32m   1579\u001b[0m     distilled_params,\n\u001b[1;32m   1580\u001b[0m     elem,\n\u001b[1;32m   1581\u001b[0m     extracted_params,\n\u001b[1;32m   1582\u001b[0m     cache_hit\u001b[39m=\u001b[39;49mcache_hit,\n\u001b[1;32m   1583\u001b[0m )\n\u001b[1;32m   1584\u001b[0m \u001b[39mif\u001b[39;00m has_events:\n",
      "File \u001b[0;32m~/.pyenv/versions/3.9.12/lib/python3.9/site-packages/sqlalchemy/engine/base.py:1943\u001b[0m, in \u001b[0;36mConnection._execute_context\u001b[0;34m(self, dialect, constructor, statement, parameters, execution_options, *args, **kw)\u001b[0m\n\u001b[1;32m   1942\u001b[0m \u001b[39mexcept\u001b[39;00m \u001b[39mBaseException\u001b[39;00m \u001b[39mas\u001b[39;00m e:\n\u001b[0;32m-> 1943\u001b[0m     \u001b[39mself\u001b[39;49m\u001b[39m.\u001b[39;49m_handle_dbapi_exception(\n\u001b[1;32m   1944\u001b[0m         e, statement, parameters, cursor, context\n\u001b[1;32m   1945\u001b[0m     )\n\u001b[1;32m   1947\u001b[0m \u001b[39mreturn\u001b[39;00m result\n",
      "File \u001b[0;32m~/.pyenv/versions/3.9.12/lib/python3.9/site-packages/sqlalchemy/engine/base.py:2124\u001b[0m, in \u001b[0;36mConnection._handle_dbapi_exception\u001b[0;34m(self, e, statement, parameters, cursor, context)\u001b[0m\n\u001b[1;32m   2123\u001b[0m \u001b[39melif\u001b[39;00m should_wrap:\n\u001b[0;32m-> 2124\u001b[0m     util\u001b[39m.\u001b[39;49mraise_(\n\u001b[1;32m   2125\u001b[0m         sqlalchemy_exception, with_traceback\u001b[39m=\u001b[39;49mexc_info[\u001b[39m2\u001b[39;49m], from_\u001b[39m=\u001b[39;49me\n\u001b[1;32m   2126\u001b[0m     )\n\u001b[1;32m   2127\u001b[0m \u001b[39melse\u001b[39;00m:\n",
      "File \u001b[0;32m~/.pyenv/versions/3.9.12/lib/python3.9/site-packages/sqlalchemy/util/compat.py:208\u001b[0m, in \u001b[0;36mraise_\u001b[0;34m(***failed resolving arguments***)\u001b[0m\n\u001b[1;32m    207\u001b[0m \u001b[39mtry\u001b[39;00m:\n\u001b[0;32m--> 208\u001b[0m     \u001b[39mraise\u001b[39;00m exception\n\u001b[1;32m    209\u001b[0m \u001b[39mfinally\u001b[39;00m:\n\u001b[1;32m    210\u001b[0m     \u001b[39m# credit to\u001b[39;00m\n\u001b[1;32m    211\u001b[0m     \u001b[39m# https://cosmicpercolator.com/2016/01/13/exception-leaks-in-python-2-and-3/\u001b[39;00m\n\u001b[1;32m    212\u001b[0m     \u001b[39m# as the __traceback__ object creates a cycle\u001b[39;00m\n",
      "File \u001b[0;32m~/.pyenv/versions/3.9.12/lib/python3.9/site-packages/sqlalchemy/engine/base.py:1900\u001b[0m, in \u001b[0;36mConnection._execute_context\u001b[0;34m(self, dialect, constructor, statement, parameters, execution_options, *args, **kw)\u001b[0m\n\u001b[1;32m   1899\u001b[0m     \u001b[39mif\u001b[39;00m \u001b[39mnot\u001b[39;00m evt_handled:\n\u001b[0;32m-> 1900\u001b[0m         \u001b[39mself\u001b[39;49m\u001b[39m.\u001b[39;49mdialect\u001b[39m.\u001b[39;49mdo_execute(\n\u001b[1;32m   1901\u001b[0m             cursor, statement, parameters, context\n\u001b[1;32m   1902\u001b[0m         )\n\u001b[1;32m   1904\u001b[0m \u001b[39mif\u001b[39;00m \u001b[39mself\u001b[39m\u001b[39m.\u001b[39m_has_events \u001b[39mor\u001b[39;00m \u001b[39mself\u001b[39m\u001b[39m.\u001b[39mengine\u001b[39m.\u001b[39m_has_events:\n",
      "File \u001b[0;32m~/.pyenv/versions/3.9.12/lib/python3.9/site-packages/sqlalchemy/engine/default.py:736\u001b[0m, in \u001b[0;36mDefaultDialect.do_execute\u001b[0;34m(self, cursor, statement, parameters, context)\u001b[0m\n\u001b[1;32m    735\u001b[0m \u001b[39mdef\u001b[39;00m \u001b[39mdo_execute\u001b[39m(\u001b[39mself\u001b[39m, cursor, statement, parameters, context\u001b[39m=\u001b[39m\u001b[39mNone\u001b[39;00m):\n\u001b[0;32m--> 736\u001b[0m     cursor\u001b[39m.\u001b[39;49mexecute(statement, parameters)\n",
      "\u001b[0;31mIntegrityError\u001b[0m: (sqlite3.IntegrityError) UNIQUE constraint failed: studies.study_name\n[SQL: INSERT INTO studies (study_name) VALUES (?)]\n[parameters: ('AIR_PASSENGERS/NAIVE/v2',)]\n(Background on this error at: https://sqlalche.me/e/14/gkpj)",
      "\nDuring handling of the above exception, another exception occurred:\n",
      "\u001b[0;31mDuplicatedStudyError\u001b[0m                      Traceback (most recent call last)",
      "Cell \u001b[0;32mIn [5], line 1\u001b[0m\n\u001b[0;32m----> 1\u001b[0m mi\u001b[39m.\u001b[39;49mtune_hyperparameters(splitter\u001b[39m=\u001b[39;49mAnchoredSplitter,\n\u001b[1;32m      2\u001b[0m                         splitter_args\u001b[39m=\u001b[39;49m{\u001b[39m'\u001b[39;49m\u001b[39mmin_train_points\u001b[39;49m\u001b[39m'\u001b[39;49m: mi\u001b[39m.\u001b[39;49mdataset\u001b[39m.\u001b[39;49mtrain_size})\n",
      "File \u001b[0;32m~/Documents/GitHub/tg/src/tg/interactors.py:121\u001b[0m, in \u001b[0;36mModelInteractor.tune_hyperparameters\u001b[0;34m(self, splitter, splitter_args, n_trials)\u001b[0m\n\u001b[1;32m    118\u001b[0m     \u001b[39mraise\u001b[39;00m \u001b[39mValueError\u001b[39;00m(\u001b[39m'\u001b[39m\u001b[39mYou should load dataset first!\u001b[39m\u001b[39m'\u001b[39m)\n\u001b[1;32m    120\u001b[0m study_name \u001b[39m=\u001b[39m \u001b[39mf\u001b[39m\u001b[39m\"\u001b[39m\u001b[39m{\u001b[39;00m\u001b[39mself\u001b[39m\u001b[39m.\u001b[39mdataset_name\u001b[39m}\u001b[39;00m\u001b[39m/\u001b[39m\u001b[39m{\u001b[39;00m\u001b[39mself\u001b[39m\u001b[39m.\u001b[39mmodel_name\u001b[39m}\u001b[39;00m\u001b[39m/v2\u001b[39m\u001b[39m\"\u001b[39m\n\u001b[0;32m--> 121\u001b[0m study \u001b[39m=\u001b[39m optuna\u001b[39m.\u001b[39;49mcreate_study(\n\u001b[1;32m    122\u001b[0m     study_name\u001b[39m=\u001b[39;49mstudy_name,\n\u001b[1;32m    123\u001b[0m     direction\u001b[39m=\u001b[39;49m\u001b[39m\"\u001b[39;49m\u001b[39mminimize\u001b[39;49m\u001b[39m\"\u001b[39;49m,\n\u001b[1;32m    124\u001b[0m     storage\u001b[39m=\u001b[39;49m\u001b[39m\"\u001b[39;49m\u001b[39msqlite:///\u001b[39;49m\u001b[39m{}\u001b[39;49;00m\u001b[39m\"\u001b[39;49m\u001b[39m.\u001b[39;49mformat(get_root_path(\u001b[39m\"\u001b[39;49m\u001b[39moptuna.db\u001b[39;49m\u001b[39m\"\u001b[39;49m)),\n\u001b[1;32m    125\u001b[0m     load_if_exists\u001b[39m=\u001b[39;49m\u001b[39mFalse\u001b[39;49;00m,\n\u001b[1;32m    126\u001b[0m )\n\u001b[1;32m    128\u001b[0m partial_objective \u001b[39m=\u001b[39m partial(\n\u001b[1;32m    129\u001b[0m     \u001b[39mself\u001b[39m\u001b[39m.\u001b[39m_objective,\n\u001b[1;32m    130\u001b[0m     suggest_params\u001b[39m=\u001b[39m\u001b[39mself\u001b[39m\u001b[39m.\u001b[39mmodel_class\u001b[39m.\u001b[39msuggest_params,\n\u001b[1;32m    131\u001b[0m     splitter\u001b[39m=\u001b[39msplitter,\n\u001b[1;32m    132\u001b[0m     splitter_args\u001b[39m=\u001b[39msplitter_args,\n\u001b[1;32m    133\u001b[0m )\n\u001b[1;32m    134\u001b[0m study\u001b[39m.\u001b[39moptimize(partial_objective, n_trials\u001b[39m=\u001b[39mn_trials)\n",
      "File \u001b[0;32m~/.pyenv/versions/3.9.12/lib/python3.9/site-packages/optuna/study/study.py:1138\u001b[0m, in \u001b[0;36mcreate_study\u001b[0;34m(storage, sampler, pruner, study_name, direction, load_if_exists, directions)\u001b[0m\n\u001b[1;32m   1136\u001b[0m storage \u001b[39m=\u001b[39m storages\u001b[39m.\u001b[39mget_storage(storage)\n\u001b[1;32m   1137\u001b[0m \u001b[39mtry\u001b[39;00m:\n\u001b[0;32m-> 1138\u001b[0m     study_id \u001b[39m=\u001b[39m storage\u001b[39m.\u001b[39;49mcreate_new_study(study_name)\n\u001b[1;32m   1139\u001b[0m \u001b[39mexcept\u001b[39;00m exceptions\u001b[39m.\u001b[39mDuplicatedStudyError:\n\u001b[1;32m   1140\u001b[0m     \u001b[39mif\u001b[39;00m load_if_exists:\n",
      "File \u001b[0;32m~/.pyenv/versions/3.9.12/lib/python3.9/site-packages/optuna/storages/_cached_storage.py:79\u001b[0m, in \u001b[0;36m_CachedStorage.create_new_study\u001b[0;34m(self, study_name)\u001b[0m\n\u001b[1;32m     77\u001b[0m \u001b[39mdef\u001b[39;00m \u001b[39mcreate_new_study\u001b[39m(\u001b[39mself\u001b[39m, study_name: Optional[\u001b[39mstr\u001b[39m] \u001b[39m=\u001b[39m \u001b[39mNone\u001b[39;00m) \u001b[39m-\u001b[39m\u001b[39m>\u001b[39m \u001b[39mint\u001b[39m:\n\u001b[0;32m---> 79\u001b[0m     study_id \u001b[39m=\u001b[39m \u001b[39mself\u001b[39;49m\u001b[39m.\u001b[39;49m_backend\u001b[39m.\u001b[39;49mcreate_new_study(study_name)\n\u001b[1;32m     80\u001b[0m     \u001b[39mwith\u001b[39;00m \u001b[39mself\u001b[39m\u001b[39m.\u001b[39m_lock:\n\u001b[1;32m     81\u001b[0m         study \u001b[39m=\u001b[39m _StudyInfo()\n",
      "File \u001b[0;32m~/.pyenv/versions/3.9.12/lib/python3.9/site-packages/optuna/storages/_rdb/storage.py:227\u001b[0m, in \u001b[0;36mRDBStorage.create_new_study\u001b[0;34m(self, study_name)\u001b[0m\n\u001b[1;32m    225\u001b[0m         session\u001b[39m.\u001b[39madd(study)\n\u001b[1;32m    226\u001b[0m \u001b[39mexcept\u001b[39;00m IntegrityError:\n\u001b[0;32m--> 227\u001b[0m     \u001b[39mraise\u001b[39;00m optuna\u001b[39m.\u001b[39mexceptions\u001b[39m.\u001b[39mDuplicatedStudyError(\n\u001b[1;32m    228\u001b[0m         \u001b[39m\"\u001b[39m\u001b[39mAnother study with name \u001b[39m\u001b[39m'\u001b[39m\u001b[39m{}\u001b[39;00m\u001b[39m'\u001b[39m\u001b[39m already exists. \u001b[39m\u001b[39m\"\u001b[39m\n\u001b[1;32m    229\u001b[0m         \u001b[39m\"\u001b[39m\u001b[39mPlease specify a different name, or reuse the existing one \u001b[39m\u001b[39m\"\u001b[39m\n\u001b[1;32m    230\u001b[0m         \u001b[39m\"\u001b[39m\u001b[39mby setting `load_if_exists` (for Python API) or \u001b[39m\u001b[39m\"\u001b[39m\n\u001b[1;32m    231\u001b[0m         \u001b[39m\"\u001b[39m\u001b[39m`--skip-if-exists` flag (for CLI).\u001b[39m\u001b[39m\"\u001b[39m\u001b[39m.\u001b[39mformat(study_name)\n\u001b[1;32m    232\u001b[0m     )\n\u001b[1;32m    234\u001b[0m _logger\u001b[39m.\u001b[39minfo(\u001b[39m\"\u001b[39m\u001b[39mA new study created in RDB with name: \u001b[39m\u001b[39m{}\u001b[39;00m\u001b[39m\"\u001b[39m\u001b[39m.\u001b[39mformat(study_name))\n\u001b[1;32m    236\u001b[0m \u001b[39mreturn\u001b[39;00m \u001b[39mself\u001b[39m\u001b[39m.\u001b[39mget_study_id_from_name(study_name)\n",
      "\u001b[0;31mDuplicatedStudyError\u001b[0m: Another study with name 'AIR_PASSENGERS/NAIVE/v2' already exists. Please specify a different name, or reuse the existing one by setting `load_if_exists` (for Python API) or `--skip-if-exists` flag (for CLI)."
     ]
    }
   ],
   "source": [
    "mi.tune_hyperparameters(splitter=AnchoredSplitter,\n",
    "                        splitter_args={'min_train_points': mi.dataset.train_size})"
   ]
  },
  {
   "cell_type": "code",
   "execution_count": null,
   "metadata": {},
   "outputs": [],
   "source": [
    "import optuna\n",
    "from tg import get_data_path, get_root_path\n",
    "optuna.delete_study(study_name=\"AIR_PASSENGERS/NAIVE/v2\", storage=\"sqlite:///{}\".format(get_root_path(\"optuna.db\")))"
   ]
  },
  {
   "cell_type": "code",
   "execution_count": null,
   "metadata": {},
   "outputs": [],
   "source": []
  }
 ],
 "metadata": {
  "kernelspec": {
   "display_name": "Python 3.9.12 64-bit ('3.9.12')",
   "language": "python",
   "name": "python3"
  },
  "language_info": {
   "codemirror_mode": {
    "name": "ipython",
    "version": 3
   },
   "file_extension": ".py",
   "mimetype": "text/x-python",
   "name": "python",
   "nbconvert_exporter": "python",
   "pygments_lexer": "ipython3",
   "version": "3.9.12"
  },
  "orig_nbformat": 4,
  "vscode": {
   "interpreter": {
    "hash": "df799a2a7b7efbb26e0d32ce1083bc8738f9f368b4708e77afccebbd088f12a4"
   }
  }
 },
 "nbformat": 4,
 "nbformat_minor": 2
}
