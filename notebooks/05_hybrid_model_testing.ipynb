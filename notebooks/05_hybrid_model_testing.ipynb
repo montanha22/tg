{
 "cells": [
  {
   "cell_type": "code",
   "execution_count": 2,
   "metadata": {},
   "outputs": [],
   "source": [
    "import pandas as pd\n",
    "import numpy as np\n",
    "import optuna"
   ]
  },
  {
   "cell_type": "code",
   "execution_count": 3,
   "metadata": {},
   "outputs": [],
   "source": [
    "from tg.datasets import DatasetFactoryLookupCallback\n",
    "from tg.interactors import ModelInteractor\n",
    "from tg.splitters import AnchoredSplitter\n",
    "from tg.model_interfaces import OneAheadModel\n",
    "from tg.utils import stack_lags\n",
    "from typing import List, Tuple, Union, Type, Dict"
   ]
  },
  {
   "cell_type": "code",
   "execution_count": 4,
   "metadata": {},
   "outputs": [],
   "source": [
    "dataset_name = 'AIR_PASSENGERS'\n",
    "\n",
    "data_factory = DatasetFactoryLookupCallback(dataset_name=dataset_name)\n",
    "\n",
    "model_name = 'ARIMA'\n",
    "params = {'epochs': 100, 'hidden_units': 15}\n",
    "\n",
    "y, X = data_factory(model_name=model_name)"
   ]
  },
  {
   "cell_type": "code",
   "execution_count": 5,
   "metadata": {},
   "outputs": [],
   "source": [
    "class HybridModel(OneAheadModel):\n",
    "\n",
    "    def __init__(self,\n",
    "                    first_model_class: Type[OneAheadModel],\n",
    "                    second_model_class: Type[OneAheadModel],\n",
    "                    method: str = 'residue') -> None:\n",
    "        super().__init__()\n",
    "        self.first_model_class = first_model_class\n",
    "        self.second_model_class = second_model_class\n",
    "        self.method = method\n",
    "\n",
    "    def fit(self,\n",
    "            y: pd.Series,\n",
    "            X: pd.DataFrame = None,\n",
    "            timesteps: int = None) -> None:\n",
    "\n",
    "        if self.second_model.single_input:\n",
    "            raise ValueError(\"Second model not compatible with hybrid model\")\n",
    "\n",
    "        if self.method == 'residue':\n",
    "            self.first_model.fit(y=y, X=X, timesteps=timesteps)\n",
    "            first_model_residuals = self.first_model.predict_residuals()[1:]\n",
    "            y_residuals = stack_lags(first_model_residuals, timesteps)\n",
    "            y_lagged = stack_lags(y[1:], timesteps)\n",
    "            X = pd.DataFrame(np.hstack([y_residuals, y_lagged]))\n",
    "            y = y[timesteps+1:]\n",
    "            self.second_model.fit(y=y, X=X, timesteps=timesteps)\n",
    "\n",
    "    def predict_one_ahead(self) -> float:\n",
    "        return self.second_model.predict_one_ahead()"
   ]
  },
  {
   "cell_type": "code",
   "execution_count": 6,
   "metadata": {},
   "outputs": [],
   "source": [
    "from tg.models import ARIMAModel, RNNModel\n",
    "\n",
    "class ARIMA_RNN(HybridModel):\n",
    "\n",
    "    def __init__(self, hidden_units: int, epochs: int) -> None:\n",
    "        super().__init__(ARIMAModel, RNNModel, method='residue')\n",
    "        # self.first_model_params = {}\n",
    "        # self.second_model_params = {'hidden_units': hidden_units, 'epochs': epochs}\n",
    "        self.first_model = ARIMAModel()\n",
    "        self.second_model = RNNModel(hidden_units=hidden_units, epochs=epochs)\n",
    "\n",
    "    def fit(self,\n",
    "            y: pd.Series,\n",
    "            X: pd.DataFrame = None,\n",
    "            timesteps: int = None) -> None:\n",
    "        super().fit(y=y, X=X, timesteps=timesteps)\n",
    "\n",
    "    def predict_one_ahead(self) -> float:\n",
    "        return super().predict_one_ahead()\n",
    "\n",
    "    @staticmethod\n",
    "    def suggest_params(trial: optuna.Trial) -> dict:\n",
    "        return {**ARIMAModel.suggest_params(trial), **RNNModel.suggest_params(trial)}"
   ]
  },
  {
   "cell_type": "code",
   "execution_count": 7,
   "metadata": {},
   "outputs": [],
   "source": [
    "arima_rnn = ARIMA_RNN(hidden_units=15, epochs=100)"
   ]
  },
  {
   "cell_type": "code",
   "execution_count": 8,
   "metadata": {},
   "outputs": [],
   "source": [
    "arima_rnn.fit(y=y, timesteps=12)"
   ]
  },
  {
   "cell_type": "code",
   "execution_count": 9,
   "metadata": {},
   "outputs": [
    {
     "name": "stdout",
     "output_type": "stream",
     "text": [
      "1/1 [==============================] - 0s 101ms/step\n"
     ]
    },
    {
     "data": {
      "text/plain": [
       "469.28067"
      ]
     },
     "execution_count": 9,
     "metadata": {},
     "output_type": "execute_result"
    }
   ],
   "source": [
    "arima_rnn.predict_one_ahead()"
   ]
  },
  {
   "cell_type": "code",
   "execution_count": null,
   "metadata": {},
   "outputs": [],
   "source": []
  },
  {
   "cell_type": "code",
   "execution_count": null,
   "metadata": {},
   "outputs": [],
   "source": []
  },
  {
   "cell_type": "code",
   "execution_count": null,
   "metadata": {},
   "outputs": [],
   "source": [
    "from tg.interactors import ModelInteractor, DataInteractor\n",
    "from tg.splitters import AnchoredSplitter\n",
    "from tg.datasets import DatasetFactoryLookupCallback\n",
    "from tg.ts_models import ModelClassLookupCallback\n",
    "from tg.utils import stack_lags"
   ]
  },
  {
   "cell_type": "code",
   "execution_count": null,
   "metadata": {},
   "outputs": [],
   "source": [
    "# dataset_name = \"PERFECT_SINE30\"\n",
    "\n",
    "di = DataInteractor(dataset_name=dataset_name)\n",
    "\n",
    "# model_name = \"SARIMA\"\n",
    "# params = {\"m\": di.y.period}\n",
    "\n",
    "# model_name = \"NAIVE\"\n",
    "# params = {\"constant\": 0.0}\n",
    "\n",
    "model_name = \"ARIMA\"\n",
    "params = {}\n",
    "\n",
    "# model_name = \"RNN\"\n",
    "# params = {\"epochs\": 700, \"hidden_units\": 25}\n",
    "\n",
    "y, X = di.get_data(model_name=model_name)"
   ]
  },
  {
   "cell_type": "code",
   "execution_count": null,
   "metadata": {},
   "outputs": [],
   "source": []
  },
  {
   "cell_type": "code",
   "execution_count": null,
   "metadata": {},
   "outputs": [],
   "source": []
  },
  {
   "cell_type": "code",
   "execution_count": null,
   "metadata": {},
   "outputs": [],
   "source": []
  },
  {
   "cell_type": "code",
   "execution_count": null,
   "metadata": {},
   "outputs": [],
   "source": []
  },
  {
   "cell_type": "code",
   "execution_count": null,
   "metadata": {},
   "outputs": [],
   "source": [
    "from tg.datasets import DATASET_FACTORY_LOOKUP"
   ]
  },
  {
   "cell_type": "code",
   "execution_count": null,
   "metadata": {},
   "outputs": [],
   "source": [
    "DATASET_FACTORY_LOOKUP['AIR_PASSENGERS']().period"
   ]
  },
  {
   "cell_type": "code",
   "execution_count": null,
   "metadata": {},
   "outputs": [],
   "source": [
    "ModelClassLookupCallback('RNN').single_input"
   ]
  },
  {
   "cell_type": "code",
   "execution_count": null,
   "metadata": {},
   "outputs": [],
   "source": [
    "x = y.iloc[0:10]"
   ]
  },
  {
   "cell_type": "code",
   "execution_count": null,
   "metadata": {},
   "outputs": [],
   "source": [
    "x.period"
   ]
  },
  {
   "cell_type": "code",
   "execution_count": null,
   "metadata": {},
   "outputs": [],
   "source": [
    "ARIMA_class = ModelClassLookupCallback(\"ARIMA\")\n",
    "ARIMA = ARIMA_class()\n"
   ]
  },
  {
   "cell_type": "code",
   "execution_count": null,
   "metadata": {},
   "outputs": [],
   "source": [
    "ARIMA.fit(y=y)"
   ]
  },
  {
   "cell_type": "code",
   "execution_count": null,
   "metadata": {},
   "outputs": [],
   "source": [
    "one_ahead_input = X.iloc[-1].values.reshape(1, -1)"
   ]
  },
  {
   "cell_type": "code",
   "execution_count": null,
   "metadata": {},
   "outputs": [],
   "source": [
    "X"
   ]
  },
  {
   "cell_type": "code",
   "execution_count": null,
   "metadata": {},
   "outputs": [],
   "source": [
    "df = X.copy()\n",
    "one_ahead_input, df = df.iloc[-1].values.reshape(1, -1), df.iloc[:-1]"
   ]
  },
  {
   "cell_type": "code",
   "execution_count": null,
   "metadata": {},
   "outputs": [],
   "source": [
    "df"
   ]
  },
  {
   "cell_type": "code",
   "execution_count": null,
   "metadata": {},
   "outputs": [],
   "source": []
  },
  {
   "cell_type": "code",
   "execution_count": null,
   "metadata": {},
   "outputs": [],
   "source": []
  },
  {
   "cell_type": "code",
   "execution_count": null,
   "metadata": {},
   "outputs": [],
   "source": []
  },
  {
   "cell_type": "code",
   "execution_count": null,
   "metadata": {},
   "outputs": [],
   "source": [
    "def _get_default_input(dataset) -> pd.Series:\n",
    "    return y, None"
   ]
  },
  {
   "cell_type": "code",
   "execution_count": null,
   "metadata": {},
   "outputs": [],
   "source": [
    "timesteps = y.period\n",
    "pd.DataFrame(stack_lags(y, timesteps))"
   ]
  },
  {
   "cell_type": "code",
   "execution_count": null,
   "metadata": {},
   "outputs": [],
   "source": [
    "first_model_residuals"
   ]
  },
  {
   "cell_type": "code",
   "execution_count": null,
   "metadata": {},
   "outputs": [],
   "source": [
    "first_model_residuals = ARIMA.predict_residuals()[1:]"
   ]
  },
  {
   "cell_type": "code",
   "execution_count": null,
   "metadata": {},
   "outputs": [],
   "source": [
    "first_model_residuals = ARIMA.predict_residuals()[1:]\n",
    "\n",
    "y_residuals = stack_lags(first_model_residuals, 12)\n",
    "y_lagged = stack_lags(y[1:], 12)\n",
    "\n",
    "X = pd.DataFrame(np.hstack([y_residuals, y_lagged]))"
   ]
  },
  {
   "cell_type": "code",
   "execution_count": null,
   "metadata": {},
   "outputs": [],
   "source": [
    "X"
   ]
  },
  {
   "cell_type": "code",
   "execution_count": null,
   "metadata": {},
   "outputs": [],
   "source": [
    "first_model_residuals"
   ]
  },
  {
   "cell_type": "code",
   "execution_count": null,
   "metadata": {},
   "outputs": [],
   "source": [
    "stack_lags(first_model_residuals, 12)"
   ]
  },
  {
   "cell_type": "code",
   "execution_count": null,
   "metadata": {},
   "outputs": [],
   "source": [
    "X.iloc[-1].shift(-1).fillna(\n",
    "            y.iloc[-1]).values.reshape(1, -1)"
   ]
  },
  {
   "cell_type": "code",
   "execution_count": null,
   "metadata": {},
   "outputs": [],
   "source": [
    "pd.DataFrame(X.iloc[-1].shift(-1).fillna(\n",
    "            y.iloc[-1]).values.reshape(1, -1))"
   ]
  },
  {
   "cell_type": "code",
   "execution_count": null,
   "metadata": {},
   "outputs": [],
   "source": [
    "arima_errors = np.array(y - arima_y_pred)[1:]\n",
    "\n",
    "\n",
    "last_arima_errors = lagmat(arima_errors, self.arima_m, \"both\")\n",
    "lagged_y = lagmat(y[1:], self.arima_m, \"both\")\n",
    "svm_features = np.hstack([last_arima_errors, lagged_y])\n",
    "svm_y_train = y[-(y_len - self.arima_m) + 1:].reshape(-1)\n",
    "\n",
    "self.svr.fit(svm_features, svm_y_train)\n",
    "\n",
    "last_arima_errors = lagmat(arima_errors, self.arima_m - 1, \"both\",\n",
    "                        \"in\")\n",
    "lagged_y = lagmat(y, self.arima_m - 1, \"both\", \"in\")\n",
    "\n",
    "self.svr_input = np.hstack([last_arima_errors[-1],\n",
    "                            lagged_y[-1]]).reshape(1, -1)"
   ]
  },
  {
   "cell_type": "code",
   "execution_count": null,
   "metadata": {},
   "outputs": [],
   "source": [
    "ARIMA.model.predict_in_sample()"
   ]
  },
  {
   "cell_type": "code",
   "execution_count": null,
   "metadata": {},
   "outputs": [],
   "source": [
    "last_arima_errors = lagmat(arima_errors, self.arima_m, \"both\")\n",
    "lagged_y = lagmat(y[1:], self.arima_m, \"both\")"
   ]
  },
  {
   "cell_type": "code",
   "execution_count": null,
   "metadata": {},
   "outputs": [],
   "source": []
  }
 ],
 "metadata": {
  "kernelspec": {
   "display_name": "Python 3.9.13 64-bit",
   "language": "python",
   "name": "python3"
  },
  "language_info": {
   "codemirror_mode": {
    "name": "ipython",
    "version": 3
   },
   "file_extension": ".py",
   "mimetype": "text/x-python",
   "name": "python",
   "nbconvert_exporter": "python",
   "pygments_lexer": "ipython3",
   "version": "3.9.13"
  },
  "orig_nbformat": 4,
  "vscode": {
   "interpreter": {
    "hash": "3cc4cab7a7dac5d65e85e0eebf2661a2d2db91ed47d95bc0e6be69046fbc8142"
   }
  }
 },
 "nbformat": 4,
 "nbformat_minor": 2
}
