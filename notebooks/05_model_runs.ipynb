{
 "cells": [
  {
   "cell_type": "code",
   "execution_count": null,
   "metadata": {},
   "outputs": [],
   "source": [
    "import pandas as pd\n",
    "import numpy as np"
   ]
  },
  {
   "cell_type": "code",
   "execution_count": null,
   "metadata": {},
   "outputs": [],
   "source": [
    "from tg.datasets import DatasetFactoryLookupCallback\n",
    "from tg.model_interactor import ModelInteractor\n",
    "from tg.splitters import AnchoredSplitter"
   ]
  },
  {
   "cell_type": "code",
   "execution_count": null,
   "metadata": {},
   "outputs": [],
   "source": [
    "# \"AIR_PASSENGERS\"\n",
    "# \"PERFECT_SINE30\"\n",
    "# \"NOISY_SINE30\"\n",
    "# \"HOMICIDES\"\n",
    "# \"RANDOM_WALK\""
   ]
  },
  {
   "cell_type": "code",
   "execution_count": null,
   "metadata": {},
   "outputs": [],
   "source": [
    "dataset_name = \"RANDOM_WALK\"\n",
    "data_factory = DatasetFactoryLookupCallback(dataset_name=dataset_name)"
   ]
  },
  {
   "cell_type": "code",
   "execution_count": null,
   "metadata": {},
   "outputs": [],
   "source": [
    "# 'NAIVE'\n",
    "# 'ARIMA'\n",
    "# 'SARIMA'\n",
    "# 'RNN'\n",
    "# 'SVR'\n",
    "# 'ELM'\n",
    "# 'STL'\n",
    "# 'ES'\n",
    "# 'LSTM'\n",
    "# 'ARIMA_RNN'\n",
    "# 'SARIMA_SVR'\n",
    "# 'STL_ELM'\n",
    "# 'ES_LSTM'"
   ]
  },
  {
   "cell_type": "code",
   "execution_count": null,
   "metadata": {},
   "outputs": [],
   "source": [
    "model_name = 'ES_LSTM'\n",
    "params = {'trend': \"mul\", 'damped_trend': False, 'seasonal': None}\n"
   ]
  },
  {
   "cell_type": "code",
   "execution_count": null,
   "metadata": {},
   "outputs": [],
   "source": [
    "y, X = data_factory(model_name=model_name)\n",
    "\n",
    "mi = ModelInteractor(model_name=model_name)\n",
    "mi.load(y=y,\n",
    "        X=X,\n",
    "        dataset_name=data_factory.dataset_name,\n",
    "        timesteps=data_factory.dataset().period,\n",
    "        train_size=data_factory.dataset().train_size,\n",
    "        stack_size=data_factory.dataset().stack_size)\n",
    "\n",
    "trains, test = mi.split_trains_test(\n",
    "    y=mi.y,\n",
    "    splitter_class=AnchoredSplitter,\n",
    "    splitter_args={'min_train_points': data_factory.dataset().train_size},\n",
    "    X=mi.X)\n",
    "\n",
    "preds = mi.fit_predict(trains=trains, test=test, parameters=params)\n",
    "metrics = mi.evaluate(preds=preds, test=test)\n",
    "\n",
    "# mi.execute_mlflow(\n",
    "#     splitter_class=AnchoredSplitter,\n",
    "#     splitter_args={'min_train_points': data_factory.dataset.train_size},\n",
    "#     parameters=mi.get_best_params())"
   ]
  },
  {
   "cell_type": "code",
   "execution_count": null,
   "metadata": {},
   "outputs": [],
   "source": []
  },
  {
   "cell_type": "code",
   "execution_count": null,
   "metadata": {},
   "outputs": [],
   "source": [
    "import matplotlib.pyplot as plt\n",
    "\n",
    "fig, ax = plt.subplots(figsize=(15, 5))\n",
    "ax.plot(y, label='y')\n",
    "ax.plot(preds, label='preds')\n",
    "ax.legend()"
   ]
  },
  {
   "cell_type": "code",
   "execution_count": null,
   "metadata": {},
   "outputs": [],
   "source": [
    "mi.tune_hyperparameters(splitter_class=AnchoredSplitter,\n",
    "                        splitter_args={\n",
    "                            'min_train_points':\n",
    "                            data_factory.dataset().tuning_train_size\n",
    "                        },\n",
    "                        n_trials=1)\n"
   ]
  },
  {
   "cell_type": "code",
   "execution_count": null,
   "metadata": {},
   "outputs": [],
   "source": [
    "# mi.get_best_params()"
   ]
  },
  {
   "cell_type": "code",
   "execution_count": null,
   "metadata": {},
   "outputs": [],
   "source": []
  },
  {
   "cell_type": "code",
   "execution_count": null,
   "metadata": {},
   "outputs": [],
   "source": []
  },
  {
   "cell_type": "code",
   "execution_count": null,
   "metadata": {},
   "outputs": [],
   "source": []
  }
 ],
 "metadata": {
  "kernelspec": {
   "display_name": "Python 3.9.13 64-bit",
   "language": "python",
   "name": "python3"
  },
  "language_info": {
   "codemirror_mode": {
    "name": "ipython",
    "version": 3
   },
   "file_extension": ".py",
   "mimetype": "text/x-python",
   "name": "python",
   "nbconvert_exporter": "python",
   "pygments_lexer": "ipython3",
   "version": "3.9.13"
  },
  "orig_nbformat": 4,
  "vscode": {
   "interpreter": {
    "hash": "3cc4cab7a7dac5d65e85e0eebf2661a2d2db91ed47d95bc0e6be69046fbc8142"
   }
  }
 },
 "nbformat": 4,
 "nbformat_minor": 2
}
