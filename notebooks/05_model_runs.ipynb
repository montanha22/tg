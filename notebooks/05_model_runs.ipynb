{
 "cells": [
  {
   "cell_type": "code",
   "execution_count": 1,
   "metadata": {},
   "outputs": [],
   "source": [
    "import pandas as pd\n",
    "import numpy as np"
   ]
  },
  {
   "cell_type": "code",
   "execution_count": 2,
   "metadata": {},
   "outputs": [],
   "source": [
    "from tg.datasets import DatasetFactoryLookupCallback\n",
    "from tg.model_interactor import ModelInteractor\n",
    "from tg.splitters import AnchoredSplitter"
   ]
  },
  {
   "cell_type": "code",
   "execution_count": 3,
   "metadata": {},
   "outputs": [],
   "source": [
    "dataset_name = 'AIR_PASSENGERS'\n",
    "data_factory = DatasetFactoryLookupCallback(dataset_name=dataset_name)"
   ]
  },
  {
   "cell_type": "code",
   "execution_count": 4,
   "metadata": {},
   "outputs": [],
   "source": [
    "model_name = 'STL'\n",
    "params = {}"
   ]
  },
  {
   "cell_type": "code",
   "execution_count": 5,
   "metadata": {},
   "outputs": [
    {
     "name": "stderr",
     "output_type": "stream",
     "text": [
      "100%|██████████| 34/34 [00:00<00:00, 86.66it/s]\n"
     ]
    }
   ],
   "source": [
    "y, X = data_factory(model_name=model_name)\n",
    "\n",
    "mi = ModelInteractor(model_name=model_name)\n",
    "mi.load(y=y,\n",
    "        X=X,\n",
    "        dataset_name=data_factory.dataset_name,\n",
    "        timesteps=data_factory.dataset.period,\n",
    "        train_size=data_factory.dataset.train_size)\n",
    "\n",
    "trains, test = mi.split_trains_test(\n",
    "    y=mi.y,\n",
    "    splitter_class=AnchoredSplitter,\n",
    "    splitter_args={'min_train_points': data_factory.dataset.train_size},\n",
    "    X=mi.X)\n",
    "\n",
    "preds = mi.fit_predict(trains=trains, test=test, parameters=params)\n",
    "metrics = mi.evaluate(preds=preds, test=test)"
   ]
  },
  {
   "cell_type": "code",
   "execution_count": 6,
   "metadata": {},
   "outputs": [
    {
     "name": "stderr",
     "output_type": "stream",
     "text": [
      "\u001b[32m[I 2022-10-27 02:35:40,803]\u001b[0m A new study created in RDB with name: AIR_PASSENGERS/STL/v1\u001b[0m\n",
      "100%|██████████| 104/104 [00:00<00:00, 124.82it/s]\n",
      "\u001b[32m[I 2022-10-27 02:35:41,808]\u001b[0m Trial 0 finished with value: 14.627151777418769 and parameters: {'seasonal': 15, 'seasonal_deg': 1, 'trend_deg': 1, 'low_pass_deg': 1, 'seasonal_jump': 6, 'trend_jump': 9, 'low_pass_jump': 7, 'robust': False}. Best is trial 0 with value: 14.627151777418769.\u001b[0m\n",
      "100%|██████████| 104/104 [00:01<00:00, 64.06it/s]\n",
      "\u001b[32m[I 2022-10-27 02:35:43,550]\u001b[0m Trial 1 finished with value: 15.337700145723254 and parameters: {'seasonal': 45, 'seasonal_deg': 1, 'trend_deg': 1, 'low_pass_deg': 1, 'seasonal_jump': 8, 'trend_jump': 1, 'low_pass_jump': 7, 'robust': True}. Best is trial 0 with value: 14.627151777418769.\u001b[0m\n",
      "100%|██████████| 104/104 [00:00<00:00, 127.97it/s]\n",
      "\u001b[32m[I 2022-10-27 02:35:44,476]\u001b[0m Trial 2 finished with value: 32.6452531737919 and parameters: {'seasonal': 93, 'seasonal_deg': 0, 'trend_deg': 1, 'low_pass_deg': 0, 'seasonal_jump': 7, 'trend_jump': 6, 'low_pass_jump': 3, 'robust': False}. Best is trial 0 with value: 14.627151777418769.\u001b[0m\n",
      "100%|██████████| 104/104 [00:00<00:00, 125.04it/s]\n",
      "\u001b[32m[I 2022-10-27 02:35:45,420]\u001b[0m Trial 3 finished with value: 33.336561609871325 and parameters: {'seasonal': 51, 'seasonal_deg': 0, 'trend_deg': 0, 'low_pass_deg': 0, 'seasonal_jump': 5, 'trend_jump': 2, 'low_pass_jump': 8, 'robust': False}. Best is trial 0 with value: 14.627151777418769.\u001b[0m\n",
      "100%|██████████| 104/104 [00:01<00:00, 81.21it/s]\n",
      "\u001b[32m[I 2022-10-27 02:35:46,804]\u001b[0m Trial 4 finished with value: 45.2091148112414 and parameters: {'seasonal': 39, 'seasonal_deg': 0, 'trend_deg': 0, 'low_pass_deg': 1, 'seasonal_jump': 1, 'trend_jump': 1, 'low_pass_jump': 10, 'robust': True}. Best is trial 0 with value: 14.627151777418769.\u001b[0m\n",
      "100%|██████████| 104/104 [00:00<00:00, 104.33it/s]\n",
      "\u001b[32m[I 2022-10-27 02:35:47,901]\u001b[0m Trial 5 finished with value: 15.209199444184536 and parameters: {'seasonal': 67, 'seasonal_deg': 1, 'trend_deg': 1, 'low_pass_deg': 0, 'seasonal_jump': 9, 'trend_jump': 9, 'low_pass_jump': 2, 'robust': True}. Best is trial 0 with value: 14.627151777418769.\u001b[0m\n",
      "100%|██████████| 104/104 [00:00<00:00, 107.12it/s]\n",
      "\u001b[32m[I 2022-10-27 02:35:48,981]\u001b[0m Trial 6 finished with value: 15.208825466121866 and parameters: {'seasonal': 71, 'seasonal_deg': 1, 'trend_deg': 1, 'low_pass_deg': 0, 'seasonal_jump': 6, 'trend_jump': 9, 'low_pass_jump': 8, 'robust': True}. Best is trial 0 with value: 14.627151777418769.\u001b[0m\n",
      "100%|██████████| 104/104 [00:00<00:00, 132.45it/s]\n",
      "\u001b[32m[I 2022-10-27 02:35:49,876]\u001b[0m Trial 7 finished with value: 25.070246796440365 and parameters: {'seasonal': 67, 'seasonal_deg': 1, 'trend_deg': 0, 'low_pass_deg': 0, 'seasonal_jump': 4, 'trend_jump': 10, 'low_pass_jump': 5, 'robust': False}. Best is trial 0 with value: 14.627151777418769.\u001b[0m\n",
      "100%|██████████| 104/104 [00:01<00:00, 78.22it/s]\n",
      "\u001b[32m[I 2022-10-27 02:35:51,328]\u001b[0m Trial 8 finished with value: 37.58496276666773 and parameters: {'seasonal': 11, 'seasonal_deg': 1, 'trend_deg': 0, 'low_pass_deg': 1, 'seasonal_jump': 10, 'trend_jump': 8, 'low_pass_jump': 3, 'robust': True}. Best is trial 0 with value: 14.627151777418769.\u001b[0m\n",
      "100%|██████████| 104/104 [00:01<00:00, 91.87it/s]\n",
      "\u001b[32m[I 2022-10-27 02:35:52,580]\u001b[0m Trial 9 finished with value: 45.064015283141735 and parameters: {'seasonal': 43, 'seasonal_deg': 0, 'trend_deg': 0, 'low_pass_deg': 0, 'seasonal_jump': 3, 'trend_jump': 8, 'low_pass_jump': 5, 'robust': True}. Best is trial 0 with value: 14.627151777418769.\u001b[0m\n"
     ]
    },
    {
     "data": {
      "text/plain": [
       "{'low_pass_deg': 1,\n",
       " 'low_pass_jump': 7,\n",
       " 'robust': False,\n",
       " 'seasonal': 15,\n",
       " 'seasonal_deg': 1,\n",
       " 'seasonal_jump': 6,\n",
       " 'trend_deg': 1,\n",
       " 'trend_jump': 9}"
      ]
     },
     "execution_count": 6,
     "metadata": {},
     "output_type": "execute_result"
    }
   ],
   "source": [
    "mi.tune_hyperparameters(splitter_class=AnchoredSplitter,\n",
    "                        splitter_args={\n",
    "                            'min_train_points':\n",
    "                            data_factory.dataset.tuning_train_size\n",
    "                        },\n",
    "                        n_trials=10)"
   ]
  },
  {
   "cell_type": "code",
   "execution_count": 7,
   "metadata": {},
   "outputs": [
    {
     "data": {
      "text/plain": [
       "{'rmse': 15.922787718567635,\n",
       " 'smape': 1.5067592761444077,\n",
       " 'mape': 3.020717144866504,\n",
       " 'mae': 12.919115914763093}"
      ]
     },
     "execution_count": 7,
     "metadata": {},
     "output_type": "execute_result"
    }
   ],
   "source": [
    "metrics"
   ]
  },
  {
   "cell_type": "code",
   "execution_count": null,
   "metadata": {},
   "outputs": [],
   "source": []
  },
  {
   "cell_type": "code",
   "execution_count": null,
   "metadata": {},
   "outputs": [],
   "source": []
  },
  {
   "cell_type": "code",
   "execution_count": null,
   "metadata": {},
   "outputs": [],
   "source": []
  },
  {
   "cell_type": "code",
   "execution_count": null,
   "metadata": {},
   "outputs": [],
   "source": []
  }
 ],
 "metadata": {
  "kernelspec": {
   "display_name": "Python 3.9.13 64-bit",
   "language": "python",
   "name": "python3"
  },
  "language_info": {
   "codemirror_mode": {
    "name": "ipython",
    "version": 3
   },
   "file_extension": ".py",
   "mimetype": "text/x-python",
   "name": "python",
   "nbconvert_exporter": "python",
   "pygments_lexer": "ipython3",
   "version": "3.9.13"
  },
  "orig_nbformat": 4,
  "vscode": {
   "interpreter": {
    "hash": "3cc4cab7a7dac5d65e85e0eebf2661a2d2db91ed47d95bc0e6be69046fbc8142"
   }
  }
 },
 "nbformat": 4,
 "nbformat_minor": 2
}
