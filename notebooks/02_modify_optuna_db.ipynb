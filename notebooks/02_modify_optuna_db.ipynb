{
 "cells": [
  {
   "cell_type": "code",
   "execution_count": null,
   "metadata": {},
   "outputs": [],
   "source": [
    "import optuna\n",
    "from tg import get_data_path, get_root_path\n",
    "\n",
    "study = optuna.delete_study(\"AIR_PASSENGERS/ARIMA/v2\",\n",
    "                            storage=\"sqlite:///{}\".format(\n",
    "                                get_root_path('optuna.db')))\n"
   ]
  }
 ],
 "metadata": {
  "kernelspec": {
   "display_name": "Python 3.9.12 64-bit ('3.9.12')",
   "language": "python",
   "name": "python3"
  },
  "language_info": {
   "codemirror_mode": {
    "name": "ipython",
    "version": 3
   },
   "file_extension": ".py",
   "mimetype": "text/x-python",
   "name": "python",
   "nbconvert_exporter": "python",
   "pygments_lexer": "ipython3",
   "version": "3.9.12"
  },
  "orig_nbformat": 4,
  "vscode": {
   "interpreter": {
    "hash": "df799a2a7b7efbb26e0d32ce1083bc8738f9f368b4708e77afccebbd088f12a4"
   }
  }
 },
 "nbformat": 4,
 "nbformat_minor": 2
}
